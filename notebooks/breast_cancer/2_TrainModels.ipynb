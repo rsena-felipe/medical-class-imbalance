{
 "cells": [
  {
   "cell_type": "code",
   "execution_count": 1,
   "metadata": {},
   "outputs": [],
   "source": [
    "# Library of my own functions\n",
    "import sys\n",
    "sys.path.append(\"../../src/\")\n",
    "import my_functions\n",
    "\n",
    "# Libraries to deal with dataframes, vectors and formats\n",
    "import pandas as pd\n",
    "import numpy as np\n",
    "import pickle as pkl\n",
    "\n",
    "# sklearn to do Grid Search & ML models\n",
    "from sklearn.linear_model import LogisticRegression\n",
    "from sklearn.ensemble import RandomForestClassifier, GradientBoostingClassifier, AdaBoostClassifier\n",
    "from sklearn.tree import DecisionTreeClassifier\n",
    "from sklearn.svm import SVC\n",
    "from sklearn.model_selection import GridSearchCV, train_test_split, RandomizedSearchCV\n",
    "from sklearn.feature_selection import RFECV\n",
    "from sklearn.metrics import f1_score \n",
    "\n",
    "# Imbalanced Learn\n",
    "from imblearn.over_sampling import SMOTE, ADASYN, BorderlineSMOTE, KMeansSMOTE, SVMSMOTE, RandomOverSampler\n",
    "from imblearn.under_sampling import RandomUnderSampler\n",
    "\n",
    "# Plotting libraries to understand the models\n",
    "import matplotlib.pyplot as plt\n",
    "import seaborn as sns\n",
    "import logging\n",
    "logging.getLogger().setLevel(logging.CRITICAL) # Avoids no critical warnings\n",
    "plt.rcParams['figure.figsize'] = [20, 4] # Change figure size of the cell of the notebook"
   ]
  },
  {
   "cell_type": "markdown",
   "metadata": {},
   "source": [
    "# 1. Train Model"
   ]
  },
  {
   "cell_type": "markdown",
   "metadata": {},
   "source": [
    "##  1.1 Create Features and Target"
   ]
  },
  {
   "cell_type": "code",
   "execution_count": 2,
   "metadata": {},
   "outputs": [],
   "source": [
    "df = pd.read_csv(\"../../data/breast_cancer/preprocess/breast_cancer_standard_scaler.csv\", index_col=\"index\")\n",
    "\n",
    "# Variable Names\n",
    "varnames = ['radius_mean', 'texture_mean', 'perimeter_mean', 'area_mean',\n",
    "       'smoothness_mean', 'compactness_mean', 'concavity_mean',\n",
    "       'concave points_mean', 'symmetry_mean', 'fractal_dimension_mean',\n",
    "       'radius_se', 'texture_se', 'perimeter_se', 'area_se', 'smoothness_se',\n",
    "       'compactness_se', 'concavity_se', 'concave points_se', 'symmetry_se',\n",
    "       'fractal_dimension_se', 'radius_worst', 'texture_worst',\n",
    "       'perimeter_worst', 'area_worst', 'smoothness_worst',\n",
    "       'compactness_worst', 'concavity_worst', 'concave points_worst',\n",
    "       'symmetry_worst', 'fractal_dimension_worst']\n",
    "\n",
    "# Seeting Data types\n",
    "df[varnames] = df[varnames].astype(\"float32\")\n",
    "df.diagnosis = df.diagnosis.astype(\"category\")\n",
    "\n",
    "# Split the data into train and validation sets\n",
    "df_training, df_validation = df[df[\"split\"] ==\"train\"], df[df[\"split\"] ==\"test\"]\n",
    "X_train, X_validation = df_training[varnames], df_validation[varnames]\n",
    "y_train, y_validation = df_training[\"diagnosis\"], df_validation[\"diagnosis\"]\n",
    "\n",
    "# Divide all data for predictions\n",
    "X_all = df[varnames]"
   ]
  },
  {
   "cell_type": "markdown",
   "metadata": {},
   "source": [
    "## 1.2 Create SMOTE"
   ]
  },
  {
   "cell_type": "code",
   "execution_count": 3,
   "metadata": {},
   "outputs": [],
   "source": [
    "sm = SMOTE(random_state=1)\n",
    "X_smote, y_smote = sm.fit_resample(X_train, y_train)"
   ]
  },
  {
   "cell_type": "code",
   "execution_count": 4,
   "metadata": {},
   "outputs": [],
   "source": [
    "ad = ADASYN(random_state=1)\n",
    "X_adasyn, y_adasyn = ad.fit_resample(X_train, y_train)"
   ]
  },
  {
   "cell_type": "code",
   "execution_count": 5,
   "metadata": {},
   "outputs": [],
   "source": [
    "bl = BorderlineSMOTE(random_state=1)\n",
    "X_borderline, y_borderline = bl.fit_resample(X_train, y_train)"
   ]
  },
  {
   "cell_type": "code",
   "execution_count": 6,
   "metadata": {},
   "outputs": [],
   "source": [
    "svm = SVMSMOTE(random_state=1)\n",
    "X_svm, y_svm = svm.fit_resample(X_train, y_train)"
   ]
  },
  {
   "cell_type": "code",
   "execution_count": 7,
   "metadata": {},
   "outputs": [],
   "source": [
    "ros = RandomOverSampler(random_state=1)\n",
    "X_ros, y_ros = ros.fit_resample(X_train, y_train)\n"
   ]
  },
  {
   "cell_type": "code",
   "execution_count": 8,
   "metadata": {},
   "outputs": [],
   "source": [
    "under = RandomUnderSampler(random_state=1)\n",
    "X_under, y_under = under.fit_resample(X_train, y_train)"
   ]
  },
  {
   "cell_type": "code",
   "execution_count": 9,
   "metadata": {},
   "outputs": [],
   "source": [
    "data_to_train = [(X_train, y_train, \"STANDARD\"), (X_smote, y_smote, \"SMOTE\"), (X_adasyn, y_adasyn, \"ADASYN\"), (X_borderline, y_borderline, \"BORDERLINE\"), (X_svm, y_svm, \"SVM\"), (X_ros, y_ros, \"RANDOM\"), (X_ros, y_ros, \"UNDER\")] "
   ]
  },
  {
   "cell_type": "markdown",
   "metadata": {},
   "source": [
    "## 2.2 Logistic Regression "
   ]
  },
  {
   "cell_type": "markdown",
   "metadata": {},
   "source": [
    "#### 2.2.1  Train"
   ]
  },
  {
   "cell_type": "code",
   "execution_count": 23,
   "metadata": {
    "tags": []
   },
   "outputs": [
    {
     "name": "stdout",
     "output_type": "stream",
     "text": [
      "F1-weighted for: STANDARD\n",
      "Training: 0.9889908435436422\n",
      "Validation: 0.982400884564791\n",
      "F1-weighted for: SMOTE\n",
      "Training: 0.9912278271789616\n",
      "Validation: 0.9859497542578126\n",
      "F1-weighted for: ADASYN\n",
      "Training: 0.9732627118852905\n",
      "Validation: 0.9553038304838555\n",
      "F1-weighted for: BORDERLINE\n",
      "Training: 0.9789471092287992\n",
      "Validation: 0.9683907686189619\n",
      "F1-weighted for: SVM\n",
      "Training: 0.9754385964912281\n",
      "Validation: 0.9701473191526203\n",
      "F1-weighted for: RANDOM\n",
      "Training: 0.9859642210758303\n",
      "Validation: 0.9806681422652609\n",
      "F1-weighted for: UNDER\n",
      "Training: 0.9859642210758303\n",
      "Validation: 0.9806681422652609\n"
     ]
    }
   ],
   "source": [
    "for i in data_to_train:\n",
    "    X_loop = i[0]\n",
    "    y_loop = i[1]\n",
    "    name = i[2]\n",
    "\n",
    "    path = \"../../results/breast_cancer/Training/log_reg_\" + name + \".csv\"\n",
    "\n",
    "    parameters = {\n",
    "        'C'       : np.linspace(0.001,2,100),\n",
    "    }\n",
    "\n",
    "    name_logreg = LogisticRegression(random_state=1)\n",
    "\n",
    "    grid_search = GridSearchCV(name_logreg,                    # model\n",
    "                    param_grid = parameters,   # hyperparameters\n",
    "                    scoring=\"f1_weighted\",        # metric for scoring\n",
    "                    cv=10,\n",
    "                    return_train_score=True,\n",
    "                    n_jobs=-1)      \n",
    "\n",
    "    grid_search.fit(X_loop, y_loop)\n",
    "\n",
    "    # Save Results \n",
    "    df = pd.DataFrame(grid_search.cv_results_)\n",
    "    df.to_csv(path)\n",
    "\n",
    "    # Save Model\n",
    "    log_reg_best = grid_search.best_estimator_ # Best Model\n",
    "\n",
    "    path = \"../../models/breast_cancer/logistic_regression_\" + name + \".pkl\"\n",
    "    with open(path,'wb') as f:\n",
    "        pkl.dump(log_reg_best,f)\n",
    "\n",
    "    # Logs\n",
    "    try:\n",
    "        y_pred = log_reg_best.predict(X_loop)\n",
    "        train_error = f1_score(y_loop, y_pred, average=\"weighted\")\n",
    "        print(\"F1-weighted for: \" + name)\n",
    "        print(\"Training: \" + str(train_error))\n",
    "        print(\"Validation: \" + str(grid_search.best_score_))\n",
    "    except:\n",
    "        print(name + \" process\")\n",
    "    "
   ]
  },
  {
   "cell_type": "markdown",
   "metadata": {},
   "source": [
    "#### 2.2.3  Make predictions in all Dataset"
   ]
  },
  {
   "cell_type": "code",
   "execution_count": 41,
   "metadata": {},
   "outputs": [],
   "source": [
    "# Make Predictions in all dataset\n",
    "y_hat = rfecv.predict(X_all)\n",
    "\n",
    "# Save it in the df\n",
    "df[\"Predicted_logreg\"] = y_hat"
   ]
  },
  {
   "cell_type": "markdown",
   "metadata": {},
   "source": [
    "## 2.3 Random Forest"
   ]
  },
  {
   "cell_type": "markdown",
   "metadata": {},
   "source": [
    "#### 2.3.1  Create Grid for Hyperparameter Selection"
   ]
  },
  {
   "cell_type": "code",
   "execution_count": 31,
   "metadata": {},
   "outputs": [
    {
     "name": "stdout",
     "output_type": "stream",
     "text": [
      "STANDARD\n",
      "Fitting 10 folds for each of 300 candidates, totalling 3000 fits\n",
      "F1-weighted for: STANDARD\n",
      "Training: 0.9933945061261853\n",
      "Validation: 0.9667903975080969\n",
      "SMOTE\n",
      "Fitting 10 folds for each of 300 candidates, totalling 3000 fits\n"
     ]
    },
    {
     "name": "stderr",
     "output_type": "stream",
     "text": [
      "/home/raul/anaconda3/lib/python3.8/site-packages/sklearn/ensemble/_forest.py:427: FutureWarning: `max_features='auto'` has been deprecated in 1.1 and will be removed in 1.3. To keep the past behaviour, explicitly set `max_features='sqrt'` or remove this parameter as it is also the default value for RandomForestClassifiers and ExtraTreesClassifiers.\n",
      "  warn(\n"
     ]
    },
    {
     "name": "stdout",
     "output_type": "stream",
     "text": [
      "F1-weighted for: SMOTE\n",
      "Training: 0.9964911848714664\n",
      "Validation: 0.977184322159047\n",
      "ADASYN\n",
      "Fitting 10 folds for each of 300 candidates, totalling 3000 fits\n",
      "F1-weighted for: ADASYN\n",
      "Training: 1.0\n",
      "Validation: 0.964286783548982\n",
      "BORDERLINE\n",
      "Fitting 10 folds for each of 300 candidates, totalling 3000 fits\n",
      "F1-weighted for: BORDERLINE\n",
      "Training: 1.0\n",
      "Validation: 0.9753756712400701\n",
      "SVM\n",
      "Fitting 10 folds for each of 300 candidates, totalling 3000 fits\n"
     ]
    },
    {
     "name": "stderr",
     "output_type": "stream",
     "text": [
      "/home/raul/anaconda3/lib/python3.8/site-packages/sklearn/ensemble/_forest.py:427: FutureWarning: `max_features='auto'` has been deprecated in 1.1 and will be removed in 1.3. To keep the past behaviour, explicitly set `max_features='sqrt'` or remove this parameter as it is also the default value for RandomForestClassifiers and ExtraTreesClassifiers.\n",
      "  warn(\n"
     ]
    },
    {
     "name": "stdout",
     "output_type": "stream",
     "text": [
      "F1-weighted for: SVM\n",
      "Training: 1.0\n",
      "Validation: 0.9754277776177351\n",
      "RANDOM\n",
      "Fitting 10 folds for each of 300 candidates, totalling 3000 fits\n"
     ]
    },
    {
     "name": "stderr",
     "output_type": "stream",
     "text": [
      "/home/raul/anaconda3/lib/python3.8/site-packages/sklearn/ensemble/_forest.py:427: FutureWarning: `max_features='auto'` has been deprecated in 1.1 and will be removed in 1.3. To keep the past behaviour, explicitly set `max_features='sqrt'` or remove this parameter as it is also the default value for RandomForestClassifiers and ExtraTreesClassifiers.\n",
      "  warn(\n"
     ]
    },
    {
     "name": "stdout",
     "output_type": "stream",
     "text": [
      "F1-weighted for: RANDOM\n",
      "Training: 0.9964911848714664\n",
      "Validation: 0.980692012803223\n",
      "UNDER\n",
      "Fitting 10 folds for each of 300 candidates, totalling 3000 fits\n"
     ]
    },
    {
     "name": "stderr",
     "output_type": "stream",
     "text": [
      "/home/raul/anaconda3/lib/python3.8/site-packages/sklearn/ensemble/_forest.py:427: FutureWarning: `max_features='auto'` has been deprecated in 1.1 and will be removed in 1.3. To keep the past behaviour, explicitly set `max_features='sqrt'` or remove this parameter as it is also the default value for RandomForestClassifiers and ExtraTreesClassifiers.\n",
      "  warn(\n"
     ]
    },
    {
     "name": "stdout",
     "output_type": "stream",
     "text": [
      "F1-weighted for: UNDER\n",
      "Training: 0.9964911848714664\n",
      "Validation: 0.980692012803223\n"
     ]
    }
   ],
   "source": [
    "# Initialize Random Forest\n",
    "model = RandomForestClassifier(random_state= 1)\n",
    "\n",
    "# Hyperparameter Space\n",
    "grid = {\"max_depth\":[5,10,20],\n",
    "        \"n_estimators\":[i for i in range(10,100,10)],\n",
    "        \"min_samples_leaf\":[i for i in range(1,10)],\n",
    "        \"criterion\":[\"gini\",\"entropy\"],\n",
    "        \"max_features\":[\"auto\",\"sqrt\",\"log2\"]}\n",
    "\n",
    "# Training        \n",
    "for i in data_to_train:\n",
    "    X_loop = i[0]\n",
    "    y_loop = i[1]\n",
    "    name = i[2]\n",
    "    print(name)\n",
    "    path = \"../../results/breast_cancer/Training/random_forest_\" + name + \".csv\"\n",
    "\n",
    "    random_search = RandomizedSearchCV(estimator= model,n_iter=300, param_distributions = grid, cv=10, scoring=\"f1_weighted\", verbose=1, n_jobs= -1, return_train_score=1, random_state=1)\n",
    "\n",
    "    random_search.fit(X_loop, y_loop)\n",
    "\n",
    "    # Save Results \n",
    "    df = pd.DataFrame(random_search.cv_results_)\n",
    "    df.to_csv(path)\n",
    "\n",
    "    # Save Model\n",
    "    rs_best = random_search.best_estimator_ # Best Model\n",
    "\n",
    "    path = \"../../models/breast_cancer/random_forest_\" + name + \".pkl\"\n",
    "    with open(path,'wb') as f:\n",
    "        pkl.dump(rs_best,f)\n",
    "\n",
    "    # Log\n",
    "    try:\n",
    "        y_pred = rs_best.predict(X_loop)\n",
    "        train_error = f1_score(y_loop, y_pred, average=\"weighted\")\n",
    "        print(\"F1-weighted for: \" + name)\n",
    "        print(\"Training: \" + str(train_error))\n",
    "        print(\"Validation: \" + str(random_search.best_score_))\n",
    "    except:\n",
    "        print(name + \" process\")"
   ]
  },
  {
   "cell_type": "markdown",
   "metadata": {},
   "source": [
    "#### 2.3.2  Train"
   ]
  },
  {
   "cell_type": "code",
   "execution_count": 5,
   "metadata": {
    "tags": []
   },
   "outputs": [
    {
     "name": "stdout",
     "output_type": "stream",
     "text": [
      "Fitting 5 folds for each of 225 candidates, totalling 1125 fits\n"
     ]
    },
    {
     "name": "stderr",
     "output_type": "stream",
     "text": [
      "[Parallel(n_jobs=4)]: Using backend LokyBackend with 4 concurrent workers.\n",
      "[Parallel(n_jobs=4)]: Done  42 tasks      | elapsed:   51.7s\n",
      "[Parallel(n_jobs=4)]: Done 192 tasks      | elapsed:  3.9min\n",
      "[Parallel(n_jobs=4)]: Done 442 tasks      | elapsed:  6.2min\n",
      "[Parallel(n_jobs=4)]: Done 792 tasks      | elapsed:  8.6min\n",
      "[Parallel(n_jobs=4)]: Done 1125 out of 1125 | elapsed: 11.0min finished\n"
     ]
    },
    {
     "data": {
      "text/plain": [
       "GridSearchCV(cv=5, estimator=RandomForestClassifier(), n_jobs=4,\n",
       "             param_grid={'bootstrap': [False], 'criterion': ['gini'],\n",
       "                         'max_depth': [None],\n",
       "                         'max_features': [1, 10, 20, 30, 40],\n",
       "                         'min_samples_leaf': [1, 3, 10],\n",
       "                         'min_samples_split': [2, 3, 10],\n",
       "                         'n_estimators': [100, 300, 500, 1000, 2000]},\n",
       "             scoring='f1_weighted', verbose=1)"
      ]
     },
     "execution_count": 5,
     "metadata": {},
     "output_type": "execute_result"
    }
   ],
   "source": [
    "gs_rf.fit(X_train, y_train)"
   ]
  },
  {
   "cell_type": "markdown",
   "metadata": {},
   "source": [
    "#### 2.3.4  Make predictions in whole dataset"
   ]
  },
  {
   "cell_type": "code",
   "execution_count": 12,
   "metadata": {},
   "outputs": [],
   "source": [
    "y_hat = rf_best.predict(X_all)\n",
    "\n",
    "# Save it in the df\n",
    "df[\"Predicted_RandomForest\"] = y_hat"
   ]
  },
  {
   "cell_type": "markdown",
   "metadata": {},
   "source": [
    "#### 2.3.5  Save the model"
   ]
  },
  {
   "cell_type": "code",
   "execution_count": 13,
   "metadata": {},
   "outputs": [],
   "source": [
    "with open('../models/pima/standard_scaler/random_forest.pkl','wb') as f:\n",
    "    pkl.dump(rf_best,f)"
   ]
  },
  {
   "cell_type": "markdown",
   "metadata": {},
   "source": [
    "## 2.4 Gradient Boosting"
   ]
  },
  {
   "cell_type": "markdown",
   "metadata": {},
   "source": [
    "#### 2.4.1  Create Grid for Hyperparameter Selection"
   ]
  },
  {
   "cell_type": "code",
   "execution_count": 28,
   "metadata": {},
   "outputs": [
    {
     "name": "stdout",
     "output_type": "stream",
     "text": [
      "STANDARD\n",
      "Fitting 10 folds for each of 100 candidates, totalling 1000 fits\n",
      "F1-weighted for: STANDARD\n",
      "Training: 0.9824175824175824\n",
      "Validation: 0.9625673368608878\n",
      "SMOTE\n",
      "Fitting 10 folds for each of 100 candidates, totalling 1000 fits\n",
      "F1-weighted for: SMOTE\n",
      "Training: 0.9894736842105263\n",
      "Validation: 0.9754234384683388\n",
      "ADASYN\n",
      "Fitting 10 folds for each of 100 candidates, totalling 1000 fits\n",
      "F1-weighted for: ADASYN\n",
      "Training: 1.0\n",
      "Validation: 0.9624487514267246\n",
      "BORDERLINE\n",
      "Fitting 10 folds for each of 100 candidates, totalling 1000 fits\n",
      "F1-weighted for: BORDERLINE\n",
      "Training: 0.998245608635299\n",
      "Validation: 0.9683799137174101\n",
      "SVM\n",
      "Fitting 10 folds for each of 100 candidates, totalling 1000 fits\n",
      "F1-weighted for: SVM\n",
      "Training: 0.9964911848714664\n",
      "Validation: 0.968378802235039\n",
      "RANDOM\n",
      "Fitting 10 folds for each of 100 candidates, totalling 1000 fits\n",
      "F1-weighted for: RANDOM\n",
      "Training: 0.9964911848714664\n",
      "Validation: 0.9754169527518959\n",
      "UNDER\n",
      "Fitting 10 folds for each of 100 candidates, totalling 1000 fits\n",
      "F1-weighted for: UNDER\n",
      "Training: 0.9964911848714664\n",
      "Validation: 0.9754169527518959\n"
     ]
    }
   ],
   "source": [
    "model = GradientBoostingClassifier(random_state=1)\n",
    "\n",
    "grid = {\n",
    "            'n_estimators' : [10, 20, 50],\n",
    "            'learning_rate': [0.01, 0.075, 0.005],\n",
    "            'max_depth': [1, 2, 3, 4, 5],#\n",
    "            'min_samples_leaf': [1, 5, 10,20, 50, 70],#\n",
    "            'min_samples_split': [20, 30, 50, 100, 150], #\n",
    "            'max_features': [ 0.3, 0.2, 0.1] #\n",
    "            }\n",
    "\n",
    "\n",
    "for i in data_to_train:\n",
    "    X_loop = i[0]\n",
    "    y_loop = i[1]\n",
    "    name = i[2]\n",
    "    print(name)\n",
    "    path = \"../../results/breast_cancer/Training/gradient_boosting_\" + name + \".csv\"\n",
    "\n",
    "    random_search = RandomizedSearchCV(estimator= model,n_iter=100, param_distributions = grid, cv=10, scoring=\"f1_weighted\", verbose=1, n_jobs= -1, return_train_score=1, random_state=1)\n",
    "\n",
    "    random_search.fit(X_loop, y_loop)\n",
    "\n",
    "    # Save Results \n",
    "    df = pd.DataFrame(random_search.cv_results_)\n",
    "    df.to_csv(path)\n",
    "\n",
    "    # Save Model\n",
    "    rs_best = random_search.best_estimator_ # Best Model\n",
    "\n",
    "    path = \"../../models/breast_cancer/gradient_boosting_\" + name + \".pkl\"\n",
    "    with open(path,'wb') as f:\n",
    "        pkl.dump(rs_best,f)\n",
    "\n",
    "    # Log\n",
    "    try:\n",
    "        y_pred = rs_best.predict(X_loop)\n",
    "        train_error = f1_score(y_loop, y_pred, average=\"weighted\")\n",
    "        print(\"F1-weighted for: \" + name)\n",
    "        print(\"Training: \" + str(train_error))\n",
    "        print(\"Validation: \" + str(random_search.best_score_))\n",
    "    except:\n",
    "        print(name + \" process\")"
   ]
  },
  {
   "cell_type": "markdown",
   "metadata": {},
   "source": [
    "#### 2.4.4  Make predictions in all data"
   ]
  },
  {
   "cell_type": "code",
   "execution_count": 20,
   "metadata": {},
   "outputs": [],
   "source": [
    "y_hat = gbc_best.predict(X_all)\n",
    "\n",
    "# Save it in the df\n",
    "df[\"Predicted_GradientBoosting\"] = y_hat"
   ]
  },
  {
   "cell_type": "markdown",
   "metadata": {},
   "source": [
    "## 2.5 ADA Boosting"
   ]
  },
  {
   "cell_type": "markdown",
   "metadata": {},
   "source": [
    "#### 2.5.1  Create Grid for Hyperparameter Selection"
   ]
  },
  {
   "cell_type": "code",
   "execution_count": 32,
   "metadata": {},
   "outputs": [
    {
     "name": "stdout",
     "output_type": "stream",
     "text": [
      "STANDARD\n",
      "Fitting 10 folds for each of 100 candidates, totalling 1000 fits\n",
      "F1-weighted for: STANDARD\n",
      "Training: 0.9736263736263736\n",
      "Validation: 0.9737140942063032\n",
      "SMOTE\n",
      "Fitting 10 folds for each of 100 candidates, totalling 1000 fits\n",
      "F1-weighted for: SMOTE\n",
      "Training: 0.9842104777176908\n",
      "Validation: 0.9841942870072516\n",
      "ADASYN\n",
      "Fitting 10 folds for each of 100 candidates, totalling 1000 fits\n",
      "F1-weighted for: ADASYN\n",
      "Training: 0.9875225988798021\n",
      "Validation: 0.9660856468653526\n",
      "BORDERLINE\n",
      "Fitting 10 folds for each of 100 candidates, totalling 1000 fits\n",
      "F1-weighted for: BORDERLINE\n",
      "Training: 0.9912278271789616\n",
      "Validation: 0.9754212778944904\n",
      "SVM\n",
      "Fitting 10 folds for each of 100 candidates, totalling 1000 fits\n",
      "F1-weighted for: SVM\n",
      "Training: 0.9719284421516604\n",
      "Validation: 0.9683929351851569\n",
      "RANDOM\n",
      "Fitting 10 folds for each of 100 candidates, totalling 1000 fits\n",
      "F1-weighted for: RANDOM\n",
      "Training: 0.9824559243573328\n",
      "Validation: 0.9771615449160868\n",
      "UNDER\n",
      "Fitting 10 folds for each of 100 candidates, totalling 1000 fits\n",
      "F1-weighted for: UNDER\n",
      "Training: 0.9824559243573328\n",
      "Validation: 0.9771615449160868\n"
     ]
    }
   ],
   "source": [
    "# Models and Base Estimator\n",
    "dtc = DecisionTreeClassifier(random_state=1)\n",
    "log_reg = LogisticRegression(random_state=1)\n",
    "\n",
    "model = AdaBoostClassifier(random_state=1)\n",
    "\n",
    "# Grid\n",
    "grid = { \"n_estimators\": np.arange(10, 5000, 10),\n",
    "                    \"learning_rate\": np.linspace(0.001, 1, 300),\n",
    "                    \"base_estimator\":[dtc, log_reg],\n",
    "                    \"algorithm\": [\"SAMME\", \"SAMME.R\"]\n",
    "}\n",
    "\n",
    "# Train\n",
    "for i in data_to_train:\n",
    "    X_loop = i[0]\n",
    "    y_loop = i[1]\n",
    "    name = i[2]\n",
    "    print(name)\n",
    "    path = \"../../results/breast_cancer/Training/ada_boost_\" + name + \".csv\"\n",
    "\n",
    "    random_search = RandomizedSearchCV(estimator= model,n_iter=100, param_distributions = grid, cv=10, scoring=\"f1_weighted\", verbose=1, n_jobs= -1, return_train_score=1, random_state=1)\n",
    "\n",
    "    random_search.fit(X_loop, y_loop)\n",
    "\n",
    "    # Save Results \n",
    "    df = pd.DataFrame(random_search.cv_results_)\n",
    "    df.to_csv(path)\n",
    "\n",
    "    # Save Model\n",
    "    rs_best = random_search.best_estimator_ # Best Model\n",
    "\n",
    "    path = \"../../models/breast_cancer/ada_boost_\" + name + \".pkl\"\n",
    "    with open(path,'wb') as f:\n",
    "        pkl.dump(rs_best,f)\n",
    "\n",
    "    # Log\n",
    "    try:\n",
    "        y_pred = rs_best.predict(X_loop)\n",
    "        train_error = f1_score(y_loop, y_pred, average=\"weighted\")\n",
    "        print(\"F1-weighted for: \" + name)\n",
    "        print(\"Training: \" + str(train_error))\n",
    "        print(\"Validation: \" + str(random_search.best_score_))\n",
    "    except:\n",
    "        print(name + \" process\")"
   ]
  },
  {
   "cell_type": "markdown",
   "metadata": {},
   "source": [
    "#### 2.5.4  Make predictions in training and validation"
   ]
  },
  {
   "cell_type": "code",
   "execution_count": 27,
   "metadata": {},
   "outputs": [],
   "source": [
    "y_hat = gs_ada_best.predict(X_all)\n",
    "\n",
    "# Save it in the df\n",
    "df[\"Predicted_AdaBoost\"] = y_hat"
   ]
  },
  {
   "cell_type": "markdown",
   "metadata": {},
   "source": [
    "## 2.6 SVC"
   ]
  },
  {
   "cell_type": "markdown",
   "metadata": {},
   "source": [
    "#### 2.6.1  Create Grid for Hyperparameter Selection"
   ]
  },
  {
   "cell_type": "code",
   "execution_count": 12,
   "metadata": {},
   "outputs": [
    {
     "name": "stdout",
     "output_type": "stream",
     "text": [
      "STANDARD\n",
      "Fitting 10 folds for each of 28 candidates, totalling 280 fits\n",
      "F1-weighted for: STANDARD\n",
      "Training: 0.9889767597749427\n",
      "Validation: 0.9845511543791534\n",
      "SMOTE\n",
      "Fitting 10 folds for each of 28 candidates, totalling 280 fits\n",
      "F1-weighted for: SMOTE\n",
      "Training: 1.0\n",
      "Validation: 0.9859562519836086\n",
      "ADASYN\n",
      "Fitting 10 folds for each of 28 candidates, totalling 280 fits\n",
      "F1-weighted for: ADASYN\n",
      "Training: 1.0\n",
      "Validation: 0.9857769423558898\n",
      "BORDERLINE\n",
      "Fitting 10 folds for each of 28 candidates, totalling 280 fits\n",
      "F1-weighted for: BORDERLINE\n",
      "Training: 0.998245608635299\n",
      "Validation: 0.9912248263184926\n",
      "SVM\n",
      "Fitting 10 folds for each of 28 candidates, totalling 280 fits\n",
      "F1-weighted for: SVM\n",
      "Training: 0.998245608635299\n",
      "Validation: 0.9824464007655843\n",
      "RANDOM\n",
      "Fitting 10 folds for each of 28 candidates, totalling 280 fits\n",
      "F1-weighted for: RANDOM\n",
      "Training: 0.998245608635299\n",
      "Validation: 0.9877095586603211\n",
      "UNDER\n",
      "Fitting 10 folds for each of 28 candidates, totalling 280 fits\n",
      "F1-weighted for: UNDER\n",
      "Training: 0.998245608635299\n",
      "Validation: 0.9877095586603211\n"
     ]
    }
   ],
   "source": [
    "# Initialize Random Forest\n",
    "model = SVC(probability=True)\n",
    "\n",
    "grid = {'kernel': ['rbf'], \n",
    "        'gamma': [ 0.001, 0.01, 0.1, 1],\n",
    "        'C': [1, 10, 50, 100, 200,300, 1000]}\n",
    "\n",
    "# Training        \n",
    "for i in data_to_train:\n",
    "    X_loop = i[0]\n",
    "    y_loop = i[1]\n",
    "    name = i[2]\n",
    "    print(name)\n",
    "    path = \"../../results/breast_cancer/Training/svc_\" + name + \".csv\"\n",
    "\n",
    "    random_search = GridSearchCV(estimator= model, param_grid = grid, cv=10, scoring=\"f1_weighted\", verbose=1, n_jobs= -1, return_train_score=1)\n",
    "\n",
    "    random_search.fit(X_loop, y_loop)\n",
    "\n",
    "    # Save Results \n",
    "    df = pd.DataFrame(random_search.cv_results_)\n",
    "    df.to_csv(path)\n",
    "\n",
    "    # Save Model\n",
    "    rs_best = random_search.best_estimator_ # Best Model\n",
    "\n",
    "    path = \"../../models/breast_cancer/svc_\" + name + \".pkl\"\n",
    "    with open(path,'wb') as f:\n",
    "        pkl.dump(rs_best,f)\n",
    "\n",
    "    # Log\n",
    "    try:\n",
    "        y_pred = rs_best.predict(X_loop)\n",
    "        train_error = f1_score(y_loop, y_pred, average=\"weighted\")\n",
    "        print(\"F1-weighted for: \" + name)\n",
    "        print(\"Training: \" + str(train_error))\n",
    "        print(\"Validation: \" + str(random_search.best_score_))\n",
    "    except:\n",
    "        print(name + \" process\")"
   ]
  },
  {
   "cell_type": "markdown",
   "metadata": {},
   "source": [
    "#### 2.6.2  Train the model"
   ]
  },
  {
   "cell_type": "code",
   "execution_count": 31,
   "metadata": {
    "tags": []
   },
   "outputs": [
    {
     "name": "stdout",
     "output_type": "stream",
     "text": [
      "Fitting 10 folds for each of 28 candidates, totalling 280 fits\n"
     ]
    },
    {
     "name": "stderr",
     "output_type": "stream",
     "text": [
      "[Parallel(n_jobs=4)]: Using backend LokyBackend with 4 concurrent workers.\n",
      "[Parallel(n_jobs=4)]: Done  76 tasks      | elapsed:    3.2s\n",
      "[Parallel(n_jobs=4)]: Done 273 out of 280 | elapsed:   20.3s remaining:    0.5s\n",
      "[Parallel(n_jobs=4)]: Done 280 out of 280 | elapsed:   20.9s finished\n"
     ]
    },
    {
     "data": {
      "text/plain": [
       "GridSearchCV(cv=10, estimator=SVC(probability=True), n_jobs=4,\n",
       "             param_grid={'C': [1, 10, 50, 100, 200, 300, 1000],\n",
       "                         'gamma': [0.001, 0.01, 0.1, 1], 'kernel': ['rbf']},\n",
       "             scoring='accuracy', verbose=1)"
      ]
     },
     "execution_count": 31,
     "metadata": {},
     "output_type": "execute_result"
    }
   ],
   "source": [
    "gs_sv.fit(X_train, y_train)"
   ]
  },
  {
   "cell_type": "code",
   "execution_count": 32,
   "metadata": {},
   "outputs": [
    {
     "data": {
      "text/plain": [
       "0.7765897973445142"
      ]
     },
     "execution_count": 32,
     "metadata": {},
     "output_type": "execute_result"
    }
   ],
   "source": [
    "# Best Model\n",
    "sv_best = gs_sv.best_estimator_\n",
    "\n",
    "# Best score\n",
    "gs_sv.best_score_"
   ]
  },
  {
   "cell_type": "markdown",
   "metadata": {},
   "source": [
    "#### 2.6.3  Make predictions in training and validation"
   ]
  },
  {
   "cell_type": "code",
   "execution_count": 33,
   "metadata": {},
   "outputs": [],
   "source": [
    "y_hat = sv_best.predict(X_all)\n",
    "\n",
    "# Save it in the df\n",
    "df[\"Predicted_SupportVectorClassifier\"] = y_hat"
   ]
  },
  {
   "cell_type": "markdown",
   "metadata": {},
   "source": [
    "#### 2.6.4  Save the model"
   ]
  },
  {
   "cell_type": "code",
   "execution_count": 34,
   "metadata": {},
   "outputs": [],
   "source": [
    "with open('../models/pima/standard_scaler/svc.pkl','wb') as f:\n",
    "    pkl.dump(sv_best,f)"
   ]
  },
  {
   "cell_type": "markdown",
   "metadata": {},
   "source": [
    "## Save Final df"
   ]
  },
  {
   "cell_type": "code",
   "execution_count": 36,
   "metadata": {},
   "outputs": [],
   "source": [
    "df.to_csv(\"../data/predictions/pima/standard_scaler/predictions_9june.csv\")"
   ]
  },
  {
   "cell_type": "markdown",
   "metadata": {},
   "source": [
    "## 2.7 Deep Learning \n",
    "\n",
    "I try to do a deep learning approach also because I really like Deep Learning. I even made the whole specialization of Deep Learning in Coursera (100 hours) and my master thesis was about classifying different Respiratory Sounds with DL.\n",
    "\n",
    "However, there is a problem in the way I have to encode the data to feed it to the model. I did the one fitting, but the model was not learning anything. I put the code so you can evaluate that I can also use Keras and TensorFlow."
   ]
  },
  {
   "cell_type": "markdown",
   "metadata": {},
   "source": [
    "#### 2.7.1 Create the Model"
   ]
  },
  {
   "cell_type": "code",
   "execution_count": 12,
   "metadata": {
    "tags": []
   },
   "outputs": [
    {
     "name": "stdout",
     "output_type": "stream",
     "text": [
      "Model: \"sequential_2\"\n",
      "_________________________________________________________________\n",
      "Layer (type)                 Output Shape              Param #   \n",
      "=================================================================\n",
      "dense_8 (Dense)              (None, 256)               12288     \n",
      "_________________________________________________________________\n",
      "dense_9 (Dense)              (None, 256)               65792     \n",
      "_________________________________________________________________\n",
      "dropout_4 (Dropout)          (None, 256)               0         \n",
      "_________________________________________________________________\n",
      "dense_10 (Dense)             (None, 256)               65792     \n",
      "_________________________________________________________________\n",
      "dropout_5 (Dropout)          (None, 256)               0         \n",
      "_________________________________________________________________\n",
      "dense_11 (Dense)             (None, 2)                 514       \n",
      "=================================================================\n",
      "Total params: 144,386\n",
      "Trainable params: 144,386\n",
      "Non-trainable params: 0\n",
      "_________________________________________________________________\n"
     ]
    }
   ],
   "source": [
    "# Create the model\n",
    "input_dim = X_train.shape[1]\n",
    "\n",
    "model = Sequential(\n",
    "    [\n",
    "        Dense(256, activation=\"relu\", input_shape=(input_dim,)),\n",
    "        Dense(256, activation=\"relu\"),\n",
    "        Dropout(0.3),\n",
    "        Dense(256, activation=\"relu\"),\n",
    "        Dropout(0.3),\n",
    "        Dense(2, activation=\"sigmoid\"),\n",
    "    ]\n",
    ")\n",
    "model.summary()"
   ]
  },
  {
   "cell_type": "code",
   "execution_count": 13,
   "metadata": {
    "tags": []
   },
   "outputs": [],
   "source": [
    "optimizer = Adam(lr=0.000001)\n",
    "auc = tf.keras.metrics.AUC()\n",
    "metrics = ['accuracy', auc] \n",
    "loss_function = 'binary_crossentropy'\n",
    "\n",
    "# Compile model\n",
    "model.compile(loss=loss_function, optimizer=optimizer, metrics=metrics)"
   ]
  },
  {
   "cell_type": "markdown",
   "metadata": {},
   "source": [
    "#### 2.7.2 Train the model"
   ]
  },
  {
   "cell_type": "code",
   "execution_count": 14,
   "metadata": {},
   "outputs": [],
   "source": [
    "# Establishing Callbacks\n",
    "csv_logger = CSVLogger(\"../models/deep_learning/history.csv\", append=True) \n",
    "checkpoint = ModelCheckpoint(\"../models/deep_learning/dl_model.h5\", monitor='val_auc_1', verbose=1, save_best_only=True, save_weights_only=False, mode='auto') \n",
    "early_stopping = EarlyStopping(monitor='val_auc', min_delta=0, patience=20, verbose=1, mode='auto')"
   ]
  },
  {
   "cell_type": "code",
   "execution_count": 6,
   "metadata": {
    "tags": []
   },
   "outputs": [],
   "source": [
    "epochs = 500 # Number of epochs to train (We put this number high, because we have the early stopping callback)\n",
    "model.fit(X_train, y_train, validation_data = (X_val, y_val), callbacks = [csv_logger, checkpoint, early_stopping], epochs=epochs)"
   ]
  },
  {
   "cell_type": "markdown",
   "metadata": {},
   "source": [
    "#### 2.7.3 Evaluate the Training"
   ]
  },
  {
   "cell_type": "code",
   "execution_count": 16,
   "metadata": {},
   "outputs": [],
   "source": [
    "input_file = \"../models/deep_learning/history.csv\"\n",
    "history = pd.read_csv(input_file)\n",
    "\n",
    "# Tidy the df so it become easier to plot\n",
    "history['epoch'] = history.index\n",
    "history = pd.melt(history, id_vars=['epoch'])\n",
    "history.rename(columns={\"variable\":\"metric\"},inplace=True)"
   ]
  },
  {
   "cell_type": "code",
   "execution_count": 18,
   "metadata": {},
   "outputs": [
    {
     "data": {
      "text/plain": [
       "Text(0.5, 1.0, 'Loss Plot')"
      ]
     },
     "execution_count": 18,
     "metadata": {},
     "output_type": "execute_result"
    },
    {
     "data": {
      "image/png": "[encoded data removed]",
      "image/svg+xml": "<?xml version=\"1.0\" encoding=\"utf-8\" standalone=\"no\"?>\n<!DOCTYPE svg PUBLIC \"-//W3C//DTD SVG 1.1//EN\"\n  \"http://www.w3.org/Graphics/SVG/1.1/DTD/svg11.dtd\">\n<!-- Created with matplotlib (https://matplotlib.org/) -->\n<svg height=\"277.314375pt\" version=\"1.1\" viewBox=\"0 0 1181.07961 277.314375\" width=\"1181.07961pt\" xmlns=\"http://www.w3.org/2000/svg\" xmlns:xlink=\"http://www.w3.org/1999/xlink\">\n <metadata>\n  <rdf:RDF xmlns:cc=\"http://creativecommons.org/ns#\" xmlns:dc=\"http://purl.org/dc/elements/1.1/\" xmlns:rdf=\"http://www.w3.org/1999/02/22-rdf-syntax-ns#\">\n   <cc:Work>\n    <dc:type rdf:resource=\"http://purl.org/dc/dcmitype/StillImage\"/>\n    <dc:date>2020-08-31T20:11:07.869271</dc:date>\n    <dc:format>image/svg+xml</dc:format>\n    <dc:creator>\n     <cc:Agent>\n      <dc:title>Matplotlib v3.3.1, https://matplotlib.org/</dc:title>\n     </cc:Agent>\n    </dc:creator>\n   </cc:Work>\n  </rdf:RDF>\n </metadata>\n <defs>\n  <style type=\"text/css\">*{stroke-linecap:butt;stroke-linejoin:round;}</style>\n </defs>\n <g id=\"figure_1\">\n  <g id=\"patch_1\">\n   <path d=\"M 0 277.314375 \nL 1181.07961 277.314375 \nL 1181.07961 0 \nL 0 0 \nz\n\" style=\"fill:none;\"/>\n  </g>\n  <g id=\"axes_1\">\n   <g id=\"patch_2\">\n    <path d=\"M 50.14375 239.758125 \nL 1166.14375 239.758125 \nL 1166.14375 22.318125 \nL 50.14375 22.318125 \nz\n\" style=\"fill:#ffffff;\"/>\n   </g>\n   <g id=\"matplotlib.axis_1\">\n    <g id=\"xtick_1\">\n     <g id=\"line2d_1\">\n      <defs>\n       <path d=\"M 0 0 \nL 0 3.5 \n\" id=\"m3127fc8d6b\" style=\"stroke:#000000;stroke-width:0.8;\"/>\n      </defs>\n      <g>\n       <use style=\"stroke:#000000;stroke-width:0.8;\" x=\"100.871023\" xlink:href=\"#m3127fc8d6b\" y=\"239.758125\"/>\n      </g>\n     </g>\n     <g id=\"text_1\">\n      <!-- 0 -->\n      <g transform=\"translate(97.689773 254.356562)scale(0.1 -0.1)\">\n       <defs>\n        <path d=\"M 31.78125 66.40625 \nQ 24.171875 66.40625 20.328125 58.90625 \nQ 16.5 51.421875 16.5 36.375 \nQ 16.5 21.390625 20.328125 13.890625 \nQ 24.171875 6.390625 31.78125 6.390625 \nQ 39.453125 6.390625 43.28125 13.890625 \nQ 47.125 21.390625 47.125 36.375 \nQ 47.125 51.421875 43.28125 58.90625 \nQ 39.453125 66.40625 31.78125 66.40625 \nz\nM 31.78125 74.21875 \nQ 44.046875 74.21875 50.515625 64.515625 \nQ 56.984375 54.828125 56.984375 36.375 \nQ 56.984375 17.96875 50.515625 8.265625 \nQ 44.046875 -1.421875 31.78125 -1.421875 \nQ 19.53125 -1.421875 13.0625 8.265625 \nQ 6.59375 17.96875 6.59375 36.375 \nQ 6.59375 54.828125 13.0625 64.515625 \nQ 19.53125 74.21875 31.78125 74.21875 \nz\n\" id=\"DejaVuSans-48\"/>\n       </defs>\n       <use xlink:href=\"#DejaVuSans-48\"/>\n      </g>\n     </g>\n    </g>\n    <g id=\"xtick_2\">\n     <g id=\"line2d_2\">\n      <g>\n       <use style=\"stroke:#000000;stroke-width:0.8;\" x=\"313.56399\" xlink:href=\"#m3127fc8d6b\" y=\"239.758125\"/>\n      </g>\n     </g>\n     <g id=\"text_2\">\n      <!-- 100 -->\n      <g transform=\"translate(304.02024 254.356562)scale(0.1 -0.1)\">\n       <defs>\n        <path d=\"M 12.40625 8.296875 \nL 28.515625 8.296875 \nL 28.515625 63.921875 \nL 10.984375 60.40625 \nL 10.984375 69.390625 \nL 28.421875 72.90625 \nL 38.28125 72.90625 \nL 38.28125 8.296875 \nL 54.390625 8.296875 \nL 54.390625 0 \nL 12.40625 0 \nz\n\" id=\"DejaVuSans-49\"/>\n       </defs>\n       <use xlink:href=\"#DejaVuSans-49\"/>\n       <use x=\"63.623047\" xlink:href=\"#DejaVuSans-48\"/>\n       <use x=\"127.246094\" xlink:href=\"#DejaVuSans-48\"/>\n      </g>\n     </g>\n    </g>\n    <g id=\"xtick_3\">\n     <g id=\"line2d_3\">\n      <g>\n       <use style=\"stroke:#000000;stroke-width:0.8;\" x=\"526.256958\" xlink:href=\"#m3127fc8d6b\" y=\"239.758125\"/>\n      </g>\n     </g>\n     <g id=\"text_3\">\n      <!-- 200 -->\n      <g transform=\"translate(516.713208 254.356562)scale(0.1 -0.1)\">\n       <defs>\n        <path d=\"M 19.1875 8.296875 \nL 53.609375 8.296875 \nL 53.609375 0 \nL 7.328125 0 \nL 7.328125 8.296875 \nQ 12.9375 14.109375 22.625 23.890625 \nQ 32.328125 33.6875 34.8125 36.53125 \nQ 39.546875 41.84375 41.421875 45.53125 \nQ 43.3125 49.21875 43.3125 52.78125 \nQ 43.3125 58.59375 39.234375 62.25 \nQ 35.15625 65.921875 28.609375 65.921875 \nQ 23.96875 65.921875 18.8125 64.3125 \nQ 13.671875 62.703125 7.8125 59.421875 \nL 7.8125 69.390625 \nQ 13.765625 71.78125 18.9375 73 \nQ 24.125 74.21875 28.421875 74.21875 \nQ 39.75 74.21875 46.484375 68.546875 \nQ 53.21875 62.890625 53.21875 53.421875 \nQ 53.21875 48.921875 51.53125 44.890625 \nQ 49.859375 40.875 45.40625 35.40625 \nQ 44.1875 33.984375 37.640625 27.21875 \nQ 31.109375 20.453125 19.1875 8.296875 \nz\n\" id=\"DejaVuSans-50\"/>\n       </defs>\n       <use xlink:href=\"#DejaVuSans-50\"/>\n       <use x=\"63.623047\" xlink:href=\"#DejaVuSans-48\"/>\n       <use x=\"127.246094\" xlink:href=\"#DejaVuSans-48\"/>\n      </g>\n     </g>\n    </g>\n    <g id=\"xtick_4\">\n     <g id=\"line2d_4\">\n      <g>\n       <use style=\"stroke:#000000;stroke-width:0.8;\" x=\"738.949925\" xlink:href=\"#m3127fc8d6b\" y=\"239.758125\"/>\n      </g>\n     </g>\n     <g id=\"text_4\">\n      <!-- 300 -->\n      <g transform=\"translate(729.406175 254.356562)scale(0.1 -0.1)\">\n       <defs>\n        <path d=\"M 40.578125 39.3125 \nQ 47.65625 37.796875 51.625 33 \nQ 55.609375 28.21875 55.609375 21.1875 \nQ 55.609375 10.40625 48.1875 4.484375 \nQ 40.765625 -1.421875 27.09375 -1.421875 \nQ 22.515625 -1.421875 17.65625 -0.515625 \nQ 12.796875 0.390625 7.625 2.203125 \nL 7.625 11.71875 \nQ 11.71875 9.328125 16.59375 8.109375 \nQ 21.484375 6.890625 26.8125 6.890625 \nQ 36.078125 6.890625 40.9375 10.546875 \nQ 45.796875 14.203125 45.796875 21.1875 \nQ 45.796875 27.640625 41.28125 31.265625 \nQ 36.765625 34.90625 28.71875 34.90625 \nL 20.21875 34.90625 \nL 20.21875 43.015625 \nL 29.109375 43.015625 \nQ 36.375 43.015625 40.234375 45.921875 \nQ 44.09375 48.828125 44.09375 54.296875 \nQ 44.09375 59.90625 40.109375 62.90625 \nQ 36.140625 65.921875 28.71875 65.921875 \nQ 24.65625 65.921875 20.015625 65.03125 \nQ 15.375 64.15625 9.8125 62.3125 \nL 9.8125 71.09375 \nQ 15.4375 72.65625 20.34375 73.4375 \nQ 25.25 74.21875 29.59375 74.21875 \nQ 40.828125 74.21875 47.359375 69.109375 \nQ 53.90625 64.015625 53.90625 55.328125 \nQ 53.90625 49.265625 50.4375 45.09375 \nQ 46.96875 40.921875 40.578125 39.3125 \nz\n\" id=\"DejaVuSans-51\"/>\n       </defs>\n       <use xlink:href=\"#DejaVuSans-51\"/>\n       <use x=\"63.623047\" xlink:href=\"#DejaVuSans-48\"/>\n       <use x=\"127.246094\" xlink:href=\"#DejaVuSans-48\"/>\n      </g>\n     </g>\n    </g>\n    <g id=\"xtick_5\">\n     <g id=\"line2d_5\">\n      <g>\n       <use style=\"stroke:#000000;stroke-width:0.8;\" x=\"951.642892\" xlink:href=\"#m3127fc8d6b\" y=\"239.758125\"/>\n      </g>\n     </g>\n     <g id=\"text_5\">\n      <!-- 400 -->\n      <g transform=\"translate(942.099142 254.356562)scale(0.1 -0.1)\">\n       <defs>\n        <path d=\"M 37.796875 64.3125 \nL 12.890625 25.390625 \nL 37.796875 25.390625 \nz\nM 35.203125 72.90625 \nL 47.609375 72.90625 \nL 47.609375 25.390625 \nL 58.015625 25.390625 \nL 58.015625 17.1875 \nL 47.609375 17.1875 \nL 47.609375 0 \nL 37.796875 0 \nL 37.796875 17.1875 \nL 4.890625 17.1875 \nL 4.890625 26.703125 \nz\n\" id=\"DejaVuSans-52\"/>\n       </defs>\n       <use xlink:href=\"#DejaVuSans-52\"/>\n       <use x=\"63.623047\" xlink:href=\"#DejaVuSans-48\"/>\n       <use x=\"127.246094\" xlink:href=\"#DejaVuSans-48\"/>\n      </g>\n     </g>\n    </g>\n    <g id=\"xtick_6\">\n     <g id=\"line2d_6\">\n      <g>\n       <use style=\"stroke:#000000;stroke-width:0.8;\" x=\"1164.33586\" xlink:href=\"#m3127fc8d6b\" y=\"239.758125\"/>\n      </g>\n     </g>\n     <g id=\"text_6\">\n      <!-- 500 -->\n      <g transform=\"translate(1154.79211 254.356562)scale(0.1 -0.1)\">\n       <defs>\n        <path d=\"M 10.796875 72.90625 \nL 49.515625 72.90625 \nL 49.515625 64.59375 \nL 19.828125 64.59375 \nL 19.828125 46.734375 \nQ 21.96875 47.46875 24.109375 47.828125 \nQ 26.265625 48.1875 28.421875 48.1875 \nQ 40.625 48.1875 47.75 41.5 \nQ 54.890625 34.8125 54.890625 23.390625 \nQ 54.890625 11.625 47.5625 5.09375 \nQ 40.234375 -1.421875 26.90625 -1.421875 \nQ 22.3125 -1.421875 17.546875 -0.640625 \nQ 12.796875 0.140625 7.71875 1.703125 \nL 7.71875 11.625 \nQ 12.109375 9.234375 16.796875 8.0625 \nQ 21.484375 6.890625 26.703125 6.890625 \nQ 35.15625 6.890625 40.078125 11.328125 \nQ 45.015625 15.765625 45.015625 23.390625 \nQ 45.015625 31 40.078125 35.4375 \nQ 35.15625 39.890625 26.703125 39.890625 \nQ 22.75 39.890625 18.8125 39.015625 \nQ 14.890625 38.140625 10.796875 36.28125 \nz\n\" id=\"DejaVuSans-53\"/>\n       </defs>\n       <use xlink:href=\"#DejaVuSans-53\"/>\n       <use x=\"63.623047\" xlink:href=\"#DejaVuSans-48\"/>\n       <use x=\"127.246094\" xlink:href=\"#DejaVuSans-48\"/>\n      </g>\n     </g>\n    </g>\n    <g id=\"text_7\">\n     <!-- epoch -->\n     <g transform=\"translate(592.915625 268.034687)scale(0.1 -0.1)\">\n      <defs>\n       <path d=\"M 56.203125 29.59375 \nL 56.203125 25.203125 \nL 14.890625 25.203125 \nQ 15.484375 15.921875 20.484375 11.0625 \nQ 25.484375 6.203125 34.421875 6.203125 \nQ 39.59375 6.203125 44.453125 7.46875 \nQ 49.3125 8.734375 54.109375 11.28125 \nL 54.109375 2.78125 \nQ 49.265625 0.734375 44.1875 -0.34375 \nQ 39.109375 -1.421875 33.890625 -1.421875 \nQ 20.796875 -1.421875 13.15625 6.1875 \nQ 5.515625 13.8125 5.515625 26.8125 \nQ 5.515625 40.234375 12.765625 48.109375 \nQ 20.015625 56 32.328125 56 \nQ 43.359375 56 49.78125 48.890625 \nQ 56.203125 41.796875 56.203125 29.59375 \nz\nM 47.21875 32.234375 \nQ 47.125 39.59375 43.09375 43.984375 \nQ 39.0625 48.390625 32.421875 48.390625 \nQ 24.90625 48.390625 20.390625 44.140625 \nQ 15.875 39.890625 15.1875 32.171875 \nz\n\" id=\"DejaVuSans-101\"/>\n       <path d=\"M 18.109375 8.203125 \nL 18.109375 -20.796875 \nL 9.078125 -20.796875 \nL 9.078125 54.6875 \nL 18.109375 54.6875 \nL 18.109375 46.390625 \nQ 20.953125 51.265625 25.265625 53.625 \nQ 29.59375 56 35.59375 56 \nQ 45.5625 56 51.78125 48.09375 \nQ 58.015625 40.1875 58.015625 27.296875 \nQ 58.015625 14.40625 51.78125 6.484375 \nQ 45.5625 -1.421875 35.59375 -1.421875 \nQ 29.59375 -1.421875 25.265625 0.953125 \nQ 20.953125 3.328125 18.109375 8.203125 \nz\nM 48.6875 27.296875 \nQ 48.6875 37.203125 44.609375 42.84375 \nQ 40.53125 48.484375 33.40625 48.484375 \nQ 26.265625 48.484375 22.1875 42.84375 \nQ 18.109375 37.203125 18.109375 27.296875 \nQ 18.109375 17.390625 22.1875 11.75 \nQ 26.265625 6.109375 33.40625 6.109375 \nQ 40.53125 6.109375 44.609375 11.75 \nQ 48.6875 17.390625 48.6875 27.296875 \nz\n\" id=\"DejaVuSans-112\"/>\n       <path d=\"M 30.609375 48.390625 \nQ 23.390625 48.390625 19.1875 42.75 \nQ 14.984375 37.109375 14.984375 27.296875 \nQ 14.984375 17.484375 19.15625 11.84375 \nQ 23.34375 6.203125 30.609375 6.203125 \nQ 37.796875 6.203125 41.984375 11.859375 \nQ 46.1875 17.53125 46.1875 27.296875 \nQ 46.1875 37.015625 41.984375 42.703125 \nQ 37.796875 48.390625 30.609375 48.390625 \nz\nM 30.609375 56 \nQ 42.328125 56 49.015625 48.375 \nQ 55.71875 40.765625 55.71875 27.296875 \nQ 55.71875 13.875 49.015625 6.21875 \nQ 42.328125 -1.421875 30.609375 -1.421875 \nQ 18.84375 -1.421875 12.171875 6.21875 \nQ 5.515625 13.875 5.515625 27.296875 \nQ 5.515625 40.765625 12.171875 48.375 \nQ 18.84375 56 30.609375 56 \nz\n\" id=\"DejaVuSans-111\"/>\n       <path d=\"M 48.78125 52.59375 \nL 48.78125 44.1875 \nQ 44.96875 46.296875 41.140625 47.34375 \nQ 37.3125 48.390625 33.40625 48.390625 \nQ 24.65625 48.390625 19.8125 42.84375 \nQ 14.984375 37.3125 14.984375 27.296875 \nQ 14.984375 17.28125 19.8125 11.734375 \nQ 24.65625 6.203125 33.40625 6.203125 \nQ 37.3125 6.203125 41.140625 7.25 \nQ 44.96875 8.296875 48.78125 10.40625 \nL 48.78125 2.09375 \nQ 45.015625 0.34375 40.984375 -0.53125 \nQ 36.96875 -1.421875 32.421875 -1.421875 \nQ 20.0625 -1.421875 12.78125 6.34375 \nQ 5.515625 14.109375 5.515625 27.296875 \nQ 5.515625 40.671875 12.859375 48.328125 \nQ 20.21875 56 33.015625 56 \nQ 37.15625 56 41.109375 55.140625 \nQ 45.0625 54.296875 48.78125 52.59375 \nz\n\" id=\"DejaVuSans-99\"/>\n       <path d=\"M 54.890625 33.015625 \nL 54.890625 0 \nL 45.90625 0 \nL 45.90625 32.71875 \nQ 45.90625 40.484375 42.875 44.328125 \nQ 39.84375 48.1875 33.796875 48.1875 \nQ 26.515625 48.1875 22.3125 43.546875 \nQ 18.109375 38.921875 18.109375 30.90625 \nL 18.109375 0 \nL 9.078125 0 \nL 9.078125 75.984375 \nL 18.109375 75.984375 \nL 18.109375 46.1875 \nQ 21.34375 51.125 25.703125 53.5625 \nQ 30.078125 56 35.796875 56 \nQ 45.21875 56 50.046875 50.171875 \nQ 54.890625 44.34375 54.890625 33.015625 \nz\n\" id=\"DejaVuSans-104\"/>\n      </defs>\n      <use xlink:href=\"#DejaVuSans-101\"/>\n      <use x=\"61.523438\" xlink:href=\"#DejaVuSans-112\"/>\n      <use x=\"125\" xlink:href=\"#DejaVuSans-111\"/>\n      <use x=\"186.181641\" xlink:href=\"#DejaVuSans-99\"/>\n      <use x=\"241.162109\" xlink:href=\"#DejaVuSans-104\"/>\n     </g>\n    </g>\n   </g>\n   <g id=\"matplotlib.axis_2\">\n    <g id=\"ytick_1\">\n     <g id=\"line2d_7\">\n      <defs>\n       <path d=\"M 0 0 \nL -3.5 0 \n\" id=\"m9dec967c59\" style=\"stroke:#000000;stroke-width:0.8;\"/>\n      </defs>\n      <g>\n       <use style=\"stroke:#000000;stroke-width:0.8;\" x=\"50.14375\" xlink:href=\"#m9dec967c59\" y=\"223.895396\"/>\n      </g>\n     </g>\n     <g id=\"text_8\">\n      <!-- 0.65 -->\n      <g transform=\"translate(20.878125 227.694615)scale(0.1 -0.1)\">\n       <defs>\n        <path d=\"M 10.6875 12.40625 \nL 21 12.40625 \nL 21 0 \nL 10.6875 0 \nz\n\" id=\"DejaVuSans-46\"/>\n        <path d=\"M 33.015625 40.375 \nQ 26.375 40.375 22.484375 35.828125 \nQ 18.609375 31.296875 18.609375 23.390625 \nQ 18.609375 15.53125 22.484375 10.953125 \nQ 26.375 6.390625 33.015625 6.390625 \nQ 39.65625 6.390625 43.53125 10.953125 \nQ 47.40625 15.53125 47.40625 23.390625 \nQ 47.40625 31.296875 43.53125 35.828125 \nQ 39.65625 40.375 33.015625 40.375 \nz\nM 52.59375 71.296875 \nL 52.59375 62.3125 \nQ 48.875 64.0625 45.09375 64.984375 \nQ 41.3125 65.921875 37.59375 65.921875 \nQ 27.828125 65.921875 22.671875 59.328125 \nQ 17.53125 52.734375 16.796875 39.40625 \nQ 19.671875 43.65625 24.015625 45.921875 \nQ 28.375 48.1875 33.59375 48.1875 \nQ 44.578125 48.1875 50.953125 41.515625 \nQ 57.328125 34.859375 57.328125 23.390625 \nQ 57.328125 12.15625 50.6875 5.359375 \nQ 44.046875 -1.421875 33.015625 -1.421875 \nQ 20.359375 -1.421875 13.671875 8.265625 \nQ 6.984375 17.96875 6.984375 36.375 \nQ 6.984375 53.65625 15.1875 63.9375 \nQ 23.390625 74.21875 37.203125 74.21875 \nQ 40.921875 74.21875 44.703125 73.484375 \nQ 48.484375 72.75 52.59375 71.296875 \nz\n\" id=\"DejaVuSans-54\"/>\n       </defs>\n       <use xlink:href=\"#DejaVuSans-48\"/>\n       <use x=\"63.623047\" xlink:href=\"#DejaVuSans-46\"/>\n       <use x=\"95.410156\" xlink:href=\"#DejaVuSans-54\"/>\n       <use x=\"159.033203\" xlink:href=\"#DejaVuSans-53\"/>\n      </g>\n     </g>\n    </g>\n    <g id=\"ytick_2\">\n     <g id=\"line2d_8\">\n      <g>\n       <use style=\"stroke:#000000;stroke-width:0.8;\" x=\"50.14375\" xlink:href=\"#m9dec967c59\" y=\"197.134743\"/>\n      </g>\n     </g>\n     <g id=\"text_9\">\n      <!-- 0.70 -->\n      <g transform=\"translate(20.878125 200.933961)scale(0.1 -0.1)\">\n       <defs>\n        <path d=\"M 8.203125 72.90625 \nL 55.078125 72.90625 \nL 55.078125 68.703125 \nL 28.609375 0 \nL 18.3125 0 \nL 43.21875 64.59375 \nL 8.203125 64.59375 \nz\n\" id=\"DejaVuSans-55\"/>\n       </defs>\n       <use xlink:href=\"#DejaVuSans-48\"/>\n       <use x=\"63.623047\" xlink:href=\"#DejaVuSans-46\"/>\n       <use x=\"95.410156\" xlink:href=\"#DejaVuSans-55\"/>\n       <use x=\"159.033203\" xlink:href=\"#DejaVuSans-48\"/>\n      </g>\n     </g>\n    </g>\n    <g id=\"ytick_3\">\n     <g id=\"line2d_9\">\n      <g>\n       <use style=\"stroke:#000000;stroke-width:0.8;\" x=\"50.14375\" xlink:href=\"#m9dec967c59\" y=\"170.374089\"/>\n      </g>\n     </g>\n     <g id=\"text_10\">\n      <!-- 0.75 -->\n      <g transform=\"translate(20.878125 174.173308)scale(0.1 -0.1)\">\n       <use xlink:href=\"#DejaVuSans-48\"/>\n       <use x=\"63.623047\" xlink:href=\"#DejaVuSans-46\"/>\n       <use x=\"95.410156\" xlink:href=\"#DejaVuSans-55\"/>\n       <use x=\"159.033203\" xlink:href=\"#DejaVuSans-53\"/>\n      </g>\n     </g>\n    </g>\n    <g id=\"ytick_4\">\n     <g id=\"line2d_10\">\n      <g>\n       <use style=\"stroke:#000000;stroke-width:0.8;\" x=\"50.14375\" xlink:href=\"#m9dec967c59\" y=\"143.613435\"/>\n      </g>\n     </g>\n     <g id=\"text_11\">\n      <!-- 0.80 -->\n      <g transform=\"translate(20.878125 147.412654)scale(0.1 -0.1)\">\n       <defs>\n        <path d=\"M 31.78125 34.625 \nQ 24.75 34.625 20.71875 30.859375 \nQ 16.703125 27.09375 16.703125 20.515625 \nQ 16.703125 13.921875 20.71875 10.15625 \nQ 24.75 6.390625 31.78125 6.390625 \nQ 38.8125 6.390625 42.859375 10.171875 \nQ 46.921875 13.96875 46.921875 20.515625 \nQ 46.921875 27.09375 42.890625 30.859375 \nQ 38.875 34.625 31.78125 34.625 \nz\nM 21.921875 38.8125 \nQ 15.578125 40.375 12.03125 44.71875 \nQ 8.5 49.078125 8.5 55.328125 \nQ 8.5 64.0625 14.71875 69.140625 \nQ 20.953125 74.21875 31.78125 74.21875 \nQ 42.671875 74.21875 48.875 69.140625 \nQ 55.078125 64.0625 55.078125 55.328125 \nQ 55.078125 49.078125 51.53125 44.71875 \nQ 48 40.375 41.703125 38.8125 \nQ 48.828125 37.15625 52.796875 32.3125 \nQ 56.78125 27.484375 56.78125 20.515625 \nQ 56.78125 9.90625 50.3125 4.234375 \nQ 43.84375 -1.421875 31.78125 -1.421875 \nQ 19.734375 -1.421875 13.25 4.234375 \nQ 6.78125 9.90625 6.78125 20.515625 \nQ 6.78125 27.484375 10.78125 32.3125 \nQ 14.796875 37.15625 21.921875 38.8125 \nz\nM 18.3125 54.390625 \nQ 18.3125 48.734375 21.84375 45.5625 \nQ 25.390625 42.390625 31.78125 42.390625 \nQ 38.140625 42.390625 41.71875 45.5625 \nQ 45.3125 48.734375 45.3125 54.390625 \nQ 45.3125 60.0625 41.71875 63.234375 \nQ 38.140625 66.40625 31.78125 66.40625 \nQ 25.390625 66.40625 21.84375 63.234375 \nQ 18.3125 60.0625 18.3125 54.390625 \nz\n\" id=\"DejaVuSans-56\"/>\n       </defs>\n       <use xlink:href=\"#DejaVuSans-48\"/>\n       <use x=\"63.623047\" xlink:href=\"#DejaVuSans-46\"/>\n       <use x=\"95.410156\" xlink:href=\"#DejaVuSans-56\"/>\n       <use x=\"159.033203\" xlink:href=\"#DejaVuSans-48\"/>\n      </g>\n     </g>\n    </g>\n    <g id=\"ytick_5\">\n     <g id=\"line2d_11\">\n      <g>\n       <use style=\"stroke:#000000;stroke-width:0.8;\" x=\"50.14375\" xlink:href=\"#m9dec967c59\" y=\"116.852781\"/>\n      </g>\n     </g>\n     <g id=\"text_12\">\n      <!-- 0.85 -->\n      <g transform=\"translate(20.878125 120.652)scale(0.1 -0.1)\">\n       <use xlink:href=\"#DejaVuSans-48\"/>\n       <use x=\"63.623047\" xlink:href=\"#DejaVuSans-46\"/>\n       <use x=\"95.410156\" xlink:href=\"#DejaVuSans-56\"/>\n       <use x=\"159.033203\" xlink:href=\"#DejaVuSans-53\"/>\n      </g>\n     </g>\n    </g>\n    <g id=\"ytick_6\">\n     <g id=\"line2d_12\">\n      <g>\n       <use style=\"stroke:#000000;stroke-width:0.8;\" x=\"50.14375\" xlink:href=\"#m9dec967c59\" y=\"90.092128\"/>\n      </g>\n     </g>\n     <g id=\"text_13\">\n      <!-- 0.90 -->\n      <g transform=\"translate(20.878125 93.891346)scale(0.1 -0.1)\">\n       <defs>\n        <path d=\"M 10.984375 1.515625 \nL 10.984375 10.5 \nQ 14.703125 8.734375 18.5 7.8125 \nQ 22.3125 6.890625 25.984375 6.890625 \nQ 35.75 6.890625 40.890625 13.453125 \nQ 46.046875 20.015625 46.78125 33.40625 \nQ 43.953125 29.203125 39.59375 26.953125 \nQ 35.25 24.703125 29.984375 24.703125 \nQ 19.046875 24.703125 12.671875 31.3125 \nQ 6.296875 37.9375 6.296875 49.421875 \nQ 6.296875 60.640625 12.9375 67.421875 \nQ 19.578125 74.21875 30.609375 74.21875 \nQ 43.265625 74.21875 49.921875 64.515625 \nQ 56.59375 54.828125 56.59375 36.375 \nQ 56.59375 19.140625 48.40625 8.859375 \nQ 40.234375 -1.421875 26.421875 -1.421875 \nQ 22.703125 -1.421875 18.890625 -0.6875 \nQ 15.09375 0.046875 10.984375 1.515625 \nz\nM 30.609375 32.421875 \nQ 37.25 32.421875 41.125 36.953125 \nQ 45.015625 41.5 45.015625 49.421875 \nQ 45.015625 57.28125 41.125 61.84375 \nQ 37.25 66.40625 30.609375 66.40625 \nQ 23.96875 66.40625 20.09375 61.84375 \nQ 16.21875 57.28125 16.21875 49.421875 \nQ 16.21875 41.5 20.09375 36.953125 \nQ 23.96875 32.421875 30.609375 32.421875 \nz\n\" id=\"DejaVuSans-57\"/>\n       </defs>\n       <use xlink:href=\"#DejaVuSans-48\"/>\n       <use x=\"63.623047\" xlink:href=\"#DejaVuSans-46\"/>\n       <use x=\"95.410156\" xlink:href=\"#DejaVuSans-57\"/>\n       <use x=\"159.033203\" xlink:href=\"#DejaVuSans-48\"/>\n      </g>\n     </g>\n    </g>\n    <g id=\"ytick_7\">\n     <g id=\"line2d_13\">\n      <g>\n       <use style=\"stroke:#000000;stroke-width:0.8;\" x=\"50.14375\" xlink:href=\"#m9dec967c59\" y=\"63.331474\"/>\n      </g>\n     </g>\n     <g id=\"text_14\">\n      <!-- 0.95 -->\n      <g transform=\"translate(20.878125 67.130693)scale(0.1 -0.1)\">\n       <use xlink:href=\"#DejaVuSans-48\"/>\n       <use x=\"63.623047\" xlink:href=\"#DejaVuSans-46\"/>\n       <use x=\"95.410156\" xlink:href=\"#DejaVuSans-57\"/>\n       <use x=\"159.033203\" xlink:href=\"#DejaVuSans-53\"/>\n      </g>\n     </g>\n    </g>\n    <g id=\"ytick_8\">\n     <g id=\"line2d_14\">\n      <g>\n       <use style=\"stroke:#000000;stroke-width:0.8;\" x=\"50.14375\" xlink:href=\"#m9dec967c59\" y=\"36.57082\"/>\n      </g>\n     </g>\n     <g id=\"text_15\">\n      <!-- 1.00 -->\n      <g transform=\"translate(20.878125 40.370039)scale(0.1 -0.1)\">\n       <use xlink:href=\"#DejaVuSans-49\"/>\n       <use x=\"63.623047\" xlink:href=\"#DejaVuSans-46\"/>\n       <use x=\"95.410156\" xlink:href=\"#DejaVuSans-48\"/>\n       <use x=\"159.033203\" xlink:href=\"#DejaVuSans-48\"/>\n      </g>\n     </g>\n    </g>\n    <g id=\"text_16\">\n     <!-- value -->\n     <g transform=\"translate(14.798438 144.695937)rotate(-90)scale(0.1 -0.1)\">\n      <defs>\n       <path d=\"M 2.984375 54.6875 \nL 12.5 54.6875 \nL 29.59375 8.796875 \nL 46.6875 54.6875 \nL 56.203125 54.6875 \nL 35.6875 0 \nL 23.484375 0 \nz\n\" id=\"DejaVuSans-118\"/>\n       <path d=\"M 34.28125 27.484375 \nQ 23.390625 27.484375 19.1875 25 \nQ 14.984375 22.515625 14.984375 16.5 \nQ 14.984375 11.71875 18.140625 8.90625 \nQ 21.296875 6.109375 26.703125 6.109375 \nQ 34.1875 6.109375 38.703125 11.40625 \nQ 43.21875 16.703125 43.21875 25.484375 \nL 43.21875 27.484375 \nz\nM 52.203125 31.203125 \nL 52.203125 0 \nL 43.21875 0 \nL 43.21875 8.296875 \nQ 40.140625 3.328125 35.546875 0.953125 \nQ 30.953125 -1.421875 24.3125 -1.421875 \nQ 15.921875 -1.421875 10.953125 3.296875 \nQ 6 8.015625 6 15.921875 \nQ 6 25.140625 12.171875 29.828125 \nQ 18.359375 34.515625 30.609375 34.515625 \nL 43.21875 34.515625 \nL 43.21875 35.40625 \nQ 43.21875 41.609375 39.140625 45 \nQ 35.0625 48.390625 27.6875 48.390625 \nQ 23 48.390625 18.546875 47.265625 \nQ 14.109375 46.140625 10.015625 43.890625 \nL 10.015625 52.203125 \nQ 14.9375 54.109375 19.578125 55.046875 \nQ 24.21875 56 28.609375 56 \nQ 40.484375 56 46.34375 49.84375 \nQ 52.203125 43.703125 52.203125 31.203125 \nz\n\" id=\"DejaVuSans-97\"/>\n       <path d=\"M 9.421875 75.984375 \nL 18.40625 75.984375 \nL 18.40625 0 \nL 9.421875 0 \nz\n\" id=\"DejaVuSans-108\"/>\n       <path d=\"M 8.5 21.578125 \nL 8.5 54.6875 \nL 17.484375 54.6875 \nL 17.484375 21.921875 \nQ 17.484375 14.15625 20.5 10.265625 \nQ 23.53125 6.390625 29.59375 6.390625 \nQ 36.859375 6.390625 41.078125 11.03125 \nQ 45.3125 15.671875 45.3125 23.6875 \nL 45.3125 54.6875 \nL 54.296875 54.6875 \nL 54.296875 0 \nL 45.3125 0 \nL 45.3125 8.40625 \nQ 42.046875 3.421875 37.71875 1 \nQ 33.40625 -1.421875 27.6875 -1.421875 \nQ 18.265625 -1.421875 13.375 4.4375 \nQ 8.5 10.296875 8.5 21.578125 \nz\nM 31.109375 56 \nz\n\" id=\"DejaVuSans-117\"/>\n      </defs>\n      <use xlink:href=\"#DejaVuSans-118\"/>\n      <use x=\"59.179688\" xlink:href=\"#DejaVuSans-97\"/>\n      <use x=\"120.458984\" xlink:href=\"#DejaVuSans-108\"/>\n      <use x=\"148.242188\" xlink:href=\"#DejaVuSans-117\"/>\n      <use x=\"211.621094\" xlink:href=\"#DejaVuSans-101\"/>\n     </g>\n    </g>\n   </g>\n   <g id=\"line2d_15\">\n    <path clip-path=\"url(#p097551f167)\" d=\"M 100.871023 60.224783 \nL 102.997952 32.201761 \nL 105.124882 68.801704 \nL 107.251812 50.530396 \nL 109.378741 43.555074 \nL 111.505671 49.486844 \nL 113.632601 52.463161 \nL 115.75953 75.2044 \nL 117.88646 41.390292 \nL 120.01339 86.109628 \nL 122.140319 104.67296 \nL 124.267249 65.219998 \nL 126.394179 86.871716 \nL 128.521108 91.555256 \nL 130.648038 93.465372 \nL 132.774968 90.465799 \nL 134.901898 51.354053 \nL 137.028827 123.983226 \nL 139.155757 118.377932 \nL 141.282687 115.850976 \nL 145.536546 52.394924 \nL 147.663476 69.666386 \nL 149.790405 100.271011 \nL 151.917335 108.182314 \nL 154.044265 91.136585 \nL 156.171194 94.901786 \nL 158.298124 99.923224 \nL 160.425054 117.568727 \nL 162.551983 79.42164 \nL 164.678913 101.887348 \nL 166.805843 97.58206 \nL 168.932772 72.123128 \nL 171.059702 112.690621 \nL 173.186632 94.467739 \nL 175.313561 82.034922 \nL 177.440491 85.0507 \nL 179.567421 91.638423 \nL 181.69435 94.540154 \nL 183.82128 142.730914 \nL 185.94821 137.824289 \nL 188.075139 140.096036 \nL 190.202069 94.339783 \nL 192.328999 112.070526 \nL 194.455928 114.704607 \nL 196.582858 102.45873 \nL 198.709788 132.506776 \nL 200.836717 113.809523 \nL 202.963647 118.875048 \nL 205.090577 116.297082 \nL 207.217506 113.520211 \nL 209.344436 163.35787 \nL 211.471366 152.636615 \nL 213.598295 122.284711 \nL 215.725225 121.469795 \nL 217.852155 138.242354 \nL 219.979084 129.587498 \nL 222.106014 116.265819 \nL 224.232944 142.364274 \nL 226.359873 118.367309 \nL 228.486803 150.799107 \nL 230.613733 97.586909 \nL 232.740663 99.671779 \nL 234.867592 119.823439 \nL 236.994522 110.614587 \nL 239.121452 93.931799 \nL 241.248381 126.420572 \nL 243.375311 124.875534 \nL 245.502241 90.072457 \nL 247.62917 120.899498 \nL 249.7561 149.761872 \nL 251.88303 130.166058 \nL 254.009959 134.348878 \nL 256.136889 134.024379 \nL 258.263819 134.503471 \nL 260.390748 105.163823 \nL 262.517678 95.521818 \nL 264.644608 144.152846 \nL 266.771537 148.429295 \nL 268.898467 154.775334 \nL 271.025397 123.118066 \nL 273.152326 155.118974 \nL 275.279256 118.963606 \nL 277.406186 110.235123 \nL 279.533115 146.829674 \nL 281.660045 155.892291 \nL 283.786975 127.143102 \nL 285.913904 120.186538 \nL 288.040834 132.523492 \nL 290.167764 124.672834 \nL 292.294693 150.447364 \nL 294.421623 130.369492 \nL 296.548553 134.882936 \nL 298.675482 112.6391 \nL 300.802412 113.666446 \nL 302.929342 141.251752 \nL 305.056271 158.802444 \nL 307.183201 110.951528 \nL 309.310131 152.709158 \nL 311.43706 151.262057 \nL 313.56399 144.360746 \nL 315.69092 94.216645 \nL 317.817849 144.875982 \nL 319.944779 152.714358 \nL 322.071709 139.813934 \nL 324.198639 131.750463 \nL 326.325568 127.602 \nL 328.452498 108.263024 \nL 330.579428 138.709228 \nL 332.706357 113.278847 \nL 334.833287 142.22142 \nL 336.960217 135.914556 \nL 339.087146 94.866025 \nL 341.214076 127.072249 \nL 343.341006 100.442257 \nL 345.467935 155.373545 \nL 347.594865 119.863634 \nL 349.721795 150.469791 \nL 351.848724 162.858712 \nL 353.975654 124.495527 \nL 356.102584 137.389986 \nL 358.229513 115.588525 \nL 360.356443 159.865328 \nL 362.483373 130.527371 \nL 364.610302 150.997883 \nL 368.864162 176.958238 \nL 370.991091 109.170963 \nL 373.118021 109.332128 \nL 375.244951 160.241124 \nL 377.37188 133.678538 \nL 379.49881 105.13658 \nL 381.62574 143.830867 \nL 383.752669 143.339429 \nL 385.879599 157.566401 \nL 388.006529 117.048323 \nL 390.133458 145.107744 \nL 392.260388 154.559204 \nL 394.387318 121.331791 \nL 396.514247 129.97816 \nL 398.641177 147.186042 \nL 400.768107 149.723239 \nL 402.895036 145.822554 \nL 405.021966 185.273697 \nL 407.148896 125.732368 \nL 409.275825 119.073378 \nL 411.402755 152.37595 \nL 413.529685 153.851317 \nL 415.656614 156.572839 \nL 417.783544 137.695153 \nL 419.910474 140.894108 \nL 422.037404 169.621412 \nL 424.164333 123.96651 \nL 426.291263 140.956219 \nL 428.418193 151.578166 \nL 430.545122 149.54791 \nL 432.672052 151.317788 \nL 434.798982 142.174079 \nL 436.925911 147.631128 \nL 439.052841 157.379492 \nL 441.179771 140.030734 \nL 443.3067 113.433504 \nL 445.43363 188.069006 \nL 447.56056 147.965261 \nL 449.687489 169.668211 \nL 451.814419 130.029106 \nL 453.941349 138.52822 \nL 456.068278 155.93641 \nL 458.195208 127.994991 \nL 460.322138 154.551643 \nL 462.449067 133.897508 \nL 464.575997 144.027921 \nL 466.702927 153.017356 \nL 468.829856 115.270119 \nL 470.956786 157.898014 \nL 473.083716 160.380149 \nL 475.210645 169.516681 \nL 477.337575 136.079964 \nL 479.464505 169.399189 \nL 481.591434 143.812333 \nL 483.718364 161.256953 \nL 485.845294 168.446779 \nL 490.099153 169.154156 \nL 492.226083 165.961485 \nL 494.353012 153.954995 \nL 496.479942 152.237021 \nL 498.606872 165.579787 \nL 500.733801 136.105868 \nL 502.860731 147.196283 \nL 504.987661 136.928567 \nL 507.11459 131.07135 \nL 509.24152 152.860466 \nL 511.36845 164.506663 \nL 513.49538 157.398505 \nL 515.622309 158.427127 \nL 517.749239 124.492751 \nL 519.876169 158.447735 \nL 522.003098 190.35664 \nL 524.130028 139.936785 \nL 526.256958 155.619408 \nL 528.383887 167.354642 \nL 530.510817 162.362967 \nL 532.637747 140.74615 \nL 534.764676 146.183324 \nL 536.891606 152.084374 \nL 539.018536 148.273107 \nL 541.145465 171.854591 \nL 543.272395 133.897827 \nL 545.399325 164.150295 \nL 547.526254 156.33409 \nL 549.653184 144.723941 \nL 551.780114 119.375578 \nL 553.907043 149.74254 \nL 556.033973 133.77555 \nL 558.160903 157.568506 \nL 560.287832 162.733723 \nL 562.414762 174.319117 \nL 564.541692 138.266184 \nL 566.668621 129.240222 \nL 568.795551 183.649448 \nL 570.922481 152.373207 \nL 573.04941 139.060109 \nL 575.17634 178.13536 \nL 577.30327 170.813113 \nL 579.430199 142.999203 \nL 581.557129 151.197616 \nL 583.684059 166.999773 \nL 585.810988 158.395289 \nL 587.937918 139.18446 \nL 590.064848 141.011217 \nL 592.191777 162.768782 \nL 594.318707 138.833132 \nL 598.572566 171.244927 \nL 600.699496 200.324963 \nL 602.826426 188.543441 \nL 604.953355 138.49214 \nL 607.080285 143.891288 \nL 609.207215 135.760888 \nL 611.334145 179.516873 \nL 613.461074 168.791758 \nL 615.588004 188.834188 \nL 617.714934 142.99445 \nL 619.841863 156.310994 \nL 621.968793 171.11678 \nL 624.095723 170.156076 \nL 626.222652 182.583757 \nL 628.349582 167.596261 \nL 630.476512 176.871818 \nL 632.603441 177.20895 \nL 634.730371 151.870891 \nL 636.857301 166.734738 \nL 638.98423 188.930179 \nL 641.11116 149.48985 \nL 643.23809 137.484445 \nL 645.365019 171.004743 \nL 647.491949 156.80039 \nL 649.618879 156.081433 \nL 651.745808 145.656604 \nL 653.872738 171.30487 \nL 655.999668 148.317673 \nL 658.126597 156.453081 \nL 660.253527 158.355509 \nL 662.380457 150.020271 \nL 664.507386 163.790864 \nL 666.634316 146.387173 \nL 668.761246 153.004436 \nL 670.888175 163.621278 \nL 673.015105 176.232486 \nL 675.142035 125.306136 \nL 677.268964 183.854955 \nL 679.395894 157.389445 \nL 681.522824 166.433463 \nL 683.649753 161.05588 \nL 685.776683 150.360721 \nL 687.903613 210.359609 \nL 690.030542 145.874967 \nL 692.157472 202.507355 \nL 694.284402 156.87255 \nL 696.411331 177.501994 \nL 698.538261 150.162104 \nL 700.665191 165.144942 \nL 702.79212 141.877175 \nL 704.91905 156.134452 \nL 707.04598 154.871612 \nL 709.17291 171.527827 \nL 711.299839 176.944967 \nL 713.426769 171.482081 \nL 715.553699 155.648151 \nL 717.680628 149.372294 \nL 719.807558 164.106622 \nL 721.934488 165.616442 \nL 724.061417 191.641237 \nL 726.188347 115.169375 \nL 728.315277 166.655687 \nL 730.442206 171.623052 \nL 732.569136 162.095955 \nL 734.696066 142.201227 \nL 736.822995 164.602271 \nL 738.949925 177.372826 \nL 741.076855 164.926929 \nL 743.203784 177.922579 \nL 745.330714 201.328798 \nL 747.457644 168.907017 \nL 749.584573 161.590512 \nL 751.711503 183.014678 \nL 753.838433 181.936801 \nL 755.965362 196.621491 \nL 758.092292 170.828649 \nL 760.219222 192.944018 \nL 762.346151 180.291784 \nL 764.473081 164.784012 \nL 766.600011 181.780262 \nL 768.72694 163.627594 \nL 770.85387 162.654895 \nL 772.9808 159.849314 \nL 775.107729 165.160287 \nL 777.234659 177.645709 \nL 779.361589 168.616684 \nL 781.488518 149.362628 \nL 783.615448 167.584649 \nL 785.742378 177.511979 \nL 787.869307 143.001245 \nL 789.996237 183.081575 \nL 792.123167 175.818154 \nL 794.250096 174.396254 \nL 796.377026 173.821299 \nL 798.503956 164.065438 \nL 800.630886 187.280824 \nL 802.757815 169.317043 \nL 804.884745 210.068319 \nL 807.011675 170.406756 \nL 809.138604 157.400642 \nL 811.265534 184.812565 \nL 813.392464 184.343458 \nL 815.519393 173.984314 \nL 817.646323 191.886621 \nL 819.773253 169.583003 \nL 821.900182 143.58963 \nL 824.027112 168.416409 \nL 826.154042 159.052645 \nL 828.280971 155.871363 \nL 830.407901 196.101916 \nL 832.534831 179.359472 \nL 834.66176 159.347986 \nL 836.78869 194.047512 \nL 838.91562 178.866439 \nL 841.042549 153.423554 \nL 843.169479 194.572924 \nL 845.296409 156.484121 \nL 847.423338 180.587987 \nL 849.550268 181.611313 \nL 851.677198 190.515253 \nL 853.804127 197.31582 \nL 855.931057 185.431033 \nL 858.057987 163.330945 \nL 860.184916 197.966285 \nL 862.311846 194.968722 \nL 864.438776 176.719649 \nL 866.565705 170.268273 \nL 868.692635 165.465581 \nL 870.819565 186.583559 \nL 872.946494 196.492993 \nL 875.073424 178.623863 \nL 877.200354 200.098433 \nL 879.327283 176.834685 \nL 881.454213 160.39594 \nL 883.581143 190.503003 \nL 885.708072 168.809112 \nL 887.835002 198.240603 \nL 889.961932 171.68309 \nL 892.088861 195.73132 \nL 894.215791 176.425456 \nL 896.342721 172.763169 \nL 898.469651 185.003877 \nL 900.59658 176.048161 \nL 902.72351 176.859121 \nL 904.85044 184.038483 \nL 906.977369 183.251704 \nL 909.104299 176.943596 \nL 911.231229 165.379256 \nL 913.358158 184.208548 \nL 915.485088 196.730019 \nL 917.612018 185.560169 \nL 919.738947 146.188365 \nL 921.865877 161.979356 \nL 923.992807 172.170157 \nL 926.119736 168.744449 \nL 928.246666 183.193452 \nL 930.373596 198.563922 \nL 932.500525 121.81704 \nL 934.627455 193.195272 \nL 936.754385 185.01131 \nL 938.881314 181.664907 \nL 941.008244 174.565426 \nL 943.135174 169.23544 \nL 945.262103 197.959777 \nL 947.389033 198.184713 \nL 949.515963 155.332584 \nL 951.642892 156.626145 \nL 953.769822 185.583489 \nL 955.896752 178.618089 \nL 958.023681 153.441546 \nL 960.150611 182.7766 \nL 962.277541 196.454935 \nL 964.40447 177.319838 \nL 966.5314 185.131832 \nL 968.65833 195.453875 \nL 970.785259 169.01698 \nL 972.912189 195.421591 \nL 975.039119 195.023209 \nL 977.166048 159.493296 \nL 979.292978 190.169157 \nL 981.419908 190.108896 \nL 983.546837 199.356475 \nL 985.673767 172.644911 \nL 987.800697 167.612754 \nL 989.927627 170.112148 \nL 992.054556 200.126059 \nL 994.181486 179.842648 \nL 996.308416 175.782871 \nL 998.435345 202.054326 \nL 1000.562275 164.568488 \nL 1002.689205 176.681974 \nL 1004.816134 174.311971 \nL 1006.943064 197.375826 \nL 1009.069994 191.101597 \nL 1011.196923 184.271393 \nL 1013.323853 185.92598 \nL 1015.450783 182.143393 \nL 1017.577712 212.819317 \nL 1019.704642 190.591752 \nL 1021.831572 167.024401 \nL 1023.958501 149.818656 \nL 1026.085431 191.467152 \nL 1028.212361 168.632539 \nL 1030.33929 173.183116 \nL 1032.46622 190.782457 \nL 1034.59315 175.481405 \nL 1036.720079 194.540736 \nL 1038.847009 203.848545 \nL 1040.973939 181.201861 \nL 1043.100868 200.856214 \nL 1045.227798 222.959939 \nL 1047.354728 205.633257 \nL 1049.481657 182.563787 \nL 1051.608587 183.911803 \nL 1053.735517 229.874489 \nL 1055.862446 203.749364 \nL 1060.116306 169.358323 \nL 1062.243235 195.449952 \nL 1064.370165 192.061791 \nL 1066.497095 184.154827 \nL 1068.624024 191.3458 \nL 1070.750954 199.196012 \nL 1072.877884 195.124815 \nL 1075.004813 190.784563 \nL 1077.131743 181.310676 \nL 1079.258673 174.905397 \nL 1081.385602 174.100785 \nL 1083.512532 169.751537 \nL 1085.639462 162.818867 \nL 1089.893321 196.828689 \nL 1092.020251 162.008641 \nL 1094.147181 193.767611 \nL 1096.27411 204.787875 \nL 1098.40104 170.454193 \nL 1100.52797 194.184782 \nL 1102.654899 195.474835 \nL 1104.781829 189.229189 \nL 1106.908759 229.837356 \nL 1109.035688 189.876559 \nL 1111.162618 184.406591 \nL 1113.289548 183.184552 \nL 1115.416477 195.822175 \nL 1115.416477 195.822175 \n\" style=\"fill:none;stroke:#1f77b4;stroke-linecap:square;stroke-width:1.5;\"/>\n   </g>\n   <g id=\"line2d_16\">\n    <path clip-path=\"url(#p097551f167)\" d=\"M 100.871023 189.574296 \nL 102.997952 189.304635 \nL 105.124882 189.968275 \nL 107.251812 191.38322 \nL 109.378741 191.691513 \nL 111.505671 190.959541 \nL 113.632601 190.454354 \nL 117.88646 189.112207 \nL 120.01339 188.685401 \nL 122.140319 186.840874 \nL 126.394179 186.35084 \nL 132.774968 184.866127 \nL 134.901898 183.74193 \nL 137.028827 183.597736 \nL 139.155757 182.954194 \nL 141.282687 182.704248 \nL 143.409616 181.841385 \nL 145.536546 180.606553 \nL 147.663476 179.691372 \nL 151.917335 178.528319 \nL 154.044265 177.626536 \nL 156.171194 176.961077 \nL 158.298124 175.657563 \nL 160.425054 175.093231 \nL 162.551983 173.790929 \nL 164.678913 172.279355 \nL 166.805843 171.834397 \nL 171.059702 170.157065 \nL 173.186632 169.297838 \nL 175.313561 168.63104 \nL 177.440491 167.547165 \nL 181.69435 165.87516 \nL 183.82128 165.318166 \nL 185.94821 164.527271 \nL 192.328999 161.521574 \nL 194.455928 160.068634 \nL 196.582858 159.370253 \nL 198.709788 158.218876 \nL 200.836717 157.522983 \nL 202.963647 157.098379 \nL 205.090577 156.477135 \nL 207.217506 155.561858 \nL 209.344436 154.514989 \nL 213.598295 153.354966 \nL 215.725225 152.089893 \nL 219.979084 151.231113 \nL 222.106014 150.292165 \nL 224.232944 148.702689 \nL 228.486803 148.728975 \nL 230.613733 147.443421 \nL 232.740663 147.069858 \nL 234.867592 146.335525 \nL 236.994522 145.431031 \nL 239.121452 144.711786 \nL 241.248381 144.112108 \nL 243.375311 143.031328 \nL 245.502241 141.265374 \nL 247.62917 139.301728 \nL 249.7561 138.936364 \nL 251.88303 139.154121 \nL 254.009959 139.632863 \nL 256.136889 139.165765 \nL 258.263819 139.721516 \nL 262.517678 138.532623 \nL 264.644608 138.259006 \nL 266.771537 137.665102 \nL 271.025397 136.78549 \nL 273.152326 136.200423 \nL 275.279256 135.247758 \nL 277.406186 134.675291 \nL 283.786975 133.66884 \nL 285.913904 133.501423 \nL 288.040834 133.467448 \nL 296.548553 131.838988 \nL 300.802412 130.944096 \nL 302.929342 129.831893 \nL 305.056271 129.353057 \nL 307.183201 129.4308 \nL 313.56399 129.200154 \nL 315.69092 128.542097 \nL 322.071709 127.796247 \nL 326.325568 126.990231 \nL 328.452498 126.913541 \nL 330.579428 126.613223 \nL 332.706357 126.080665 \nL 334.833287 125.278446 \nL 336.960217 125.226606 \nL 339.087146 125.042951 \nL 341.214076 124.5585 \nL 343.341006 124.248739 \nL 345.467935 124.152812 \nL 349.721795 124.590911 \nL 353.975654 123.944306 \nL 356.102584 123.73832 \nL 360.356443 123.067343 \nL 362.483373 122.38236 \nL 366.737232 122.862984 \nL 368.864162 122.320568 \nL 370.991091 122.651479 \nL 373.118021 122.247801 \nL 375.244951 122.135509 \nL 377.37188 121.651313 \nL 379.49881 120.851104 \nL 381.62574 120.900838 \nL 383.752669 120.544406 \nL 385.879599 120.538727 \nL 390.133458 119.241625 \nL 392.260388 118.739181 \nL 394.387318 118.375061 \nL 396.514247 118.462917 \nL 398.641177 119.094242 \nL 402.895036 118.786267 \nL 405.021966 118.768211 \nL 409.275825 119.228163 \nL 411.402755 118.869849 \nL 413.529685 117.789419 \nL 417.783544 117.140581 \nL 419.910474 116.406662 \nL 422.037404 116.633575 \nL 424.164333 116.689722 \nL 426.291263 116.039799 \nL 428.418193 114.943068 \nL 430.545122 113.509811 \nL 432.672052 113.728111 \nL 434.798982 113.440809 \nL 436.925911 112.550575 \nL 439.052841 112.448874 \nL 441.179771 112.659868 \nL 443.3067 112.401756 \nL 447.56056 113.270042 \nL 449.687489 113.530292 \nL 453.941349 113.412832 \nL 456.068278 113.669413 \nL 460.322138 115.082827 \nL 462.449067 114.974012 \nL 464.575997 114.615379 \nL 466.702927 114.829659 \nL 468.829856 114.291008 \nL 470.956786 113.292086 \nL 473.083716 111.995303 \nL 475.210645 111.379323 \nL 477.337575 111.419582 \nL 479.464505 111.185619 \nL 481.591434 111.596793 \nL 483.718364 111.535064 \nL 485.845294 111.796175 \nL 490.099153 111.398942 \nL 494.353012 112.172673 \nL 496.479942 112.890163 \nL 498.606872 113.038089 \nL 500.733801 113.464001 \nL 502.860731 115.221182 \nL 504.987661 115.830846 \nL 507.11459 115.909642 \nL 509.24152 115.819968 \nL 517.749239 116.505588 \nL 519.876169 114.196899 \nL 522.003098 114.133288 \nL 524.130028 114.194411 \nL 530.510817 114.859072 \nL 532.637747 115.605336 \nL 534.764676 115.786854 \nL 536.891606 115.588174 \nL 543.272395 115.925943 \nL 545.399325 116.547251 \nL 547.526254 116.906554 \nL 549.653184 117.009754 \nL 551.780114 117.232233 \nL 553.907043 117.238486 \nL 556.033973 117.74329 \nL 560.287832 118.002583 \nL 562.414762 117.675979 \nL 566.668621 118.443681 \nL 570.922481 118.378634 \nL 573.04941 118.360738 \nL 575.17634 118.519318 \nL 577.30327 118.546115 \nL 581.557129 117.679073 \nL 583.684059 117.802786 \nL 585.810988 117.329117 \nL 587.937918 117.348226 \nL 590.064848 116.941199 \nL 596.445637 118.193416 \nL 598.572566 118.345776 \nL 600.699496 118.679845 \nL 602.826426 118.637289 \nL 604.953355 119.014233 \nL 607.080285 118.948357 \nL 609.207215 118.133633 \nL 611.334145 118.806365 \nL 613.461074 119.326546 \nL 615.588004 119.267337 \nL 617.714934 119.714209 \nL 619.841863 119.737848 \nL 624.095723 119.078546 \nL 626.222652 119.415295 \nL 628.349582 119.157821 \nL 636.857301 118.931099 \nL 638.98423 118.486556 \nL 641.11116 118.767541 \nL 643.23809 118.665681 \nL 647.491949 119.012032 \nL 649.618879 119.406586 \nL 653.872738 119.856616 \nL 655.999668 119.63586 \nL 658.126597 120.25637 \nL 660.253527 120.10905 \nL 662.380457 119.808732 \nL 664.507386 120.055488 \nL 666.634316 120.182519 \nL 668.761246 120.021258 \nL 670.888175 119.601311 \nL 673.015105 119.790644 \nL 675.142035 119.861975 \nL 677.268964 119.808509 \nL 679.395894 120.500573 \nL 681.522824 120.474287 \nL 683.649753 121.503706 \nL 685.776683 121.891146 \nL 687.903613 121.9924 \nL 690.030542 121.732789 \nL 692.157472 121.150432 \nL 696.411331 121.717859 \nL 698.538261 121.376293 \nL 702.79212 121.350261 \nL 704.91905 120.912577 \nL 707.04598 119.037968 \nL 709.17291 119.865261 \nL 711.299839 120.018196 \nL 713.426769 119.912571 \nL 715.553699 120.008306 \nL 717.680628 119.686136 \nL 719.807558 118.729005 \nL 724.061417 118.519988 \nL 728.315277 118.598912 \nL 730.442206 119.120783 \nL 732.569136 119.772875 \nL 741.076855 120.012964 \nL 743.203784 120.060592 \nL 745.330714 120.362186 \nL 747.457644 121.035046 \nL 749.584573 121.250347 \nL 751.711503 121.130175 \nL 753.838433 119.994429 \nL 760.219222 121.167244 \nL 762.346151 121.23564 \nL 764.473081 121.615488 \nL 766.600011 123.095543 \nL 775.107729 123.681504 \nL 779.361589 124.287882 \nL 781.488518 123.815617 \nL 783.615448 121.471741 \nL 785.742378 121.528749 \nL 787.869307 121.965731 \nL 789.996237 121.933511 \nL 792.123167 122.023664 \nL 796.377026 123.147542 \nL 798.503956 123.034134 \nL 802.757815 123.404825 \nL 807.011675 124.506437 \nL 811.265534 124.777055 \nL 813.392464 124.929319 \nL 815.519393 124.873524 \nL 817.646323 124.968111 \nL 819.773253 125.434889 \nL 821.900182 125.405668 \nL 824.027112 125.515791 \nL 826.154042 125.474798 \nL 828.280971 125.62435 \nL 830.407901 125.581635 \nL 832.534831 125.881697 \nL 834.66176 125.442928 \nL 838.91562 125.97169 \nL 841.042549 125.880453 \nL 849.550268 126.069818 \nL 851.677198 126.228367 \nL 855.931057 126.737032 \nL 860.184916 126.892614 \nL 862.311846 126.76973 \nL 866.565705 126.972239 \nL 868.692635 126.892614 \nL 870.819565 127.271728 \nL 872.946494 127.334031 \nL 875.073424 127.574438 \nL 877.200354 127.965961 \nL 879.327283 128.696562 \nL 883.581143 129.539136 \nL 885.708072 130.205775 \nL 889.961932 130.758527 \nL 892.088861 131.237938 \nL 896.342721 131.24703 \nL 898.469651 131.586331 \nL 902.72351 131.760862 \nL 904.85044 131.780832 \nL 906.977369 131.633321 \nL 909.104299 131.657981 \nL 911.231229 131.438309 \nL 913.358158 131.726728 \nL 915.485088 131.488522 \nL 919.738947 132.254246 \nL 921.865877 131.790467 \nL 923.992807 131.518126 \nL 926.119736 131.525368 \nL 928.246666 131.884192 \nL 930.373596 132.421057 \nL 932.500525 132.231819 \nL 934.627455 132.416081 \nL 936.754385 132.06622 \nL 938.881314 131.243967 \nL 943.135174 130.960334 \nL 945.262103 130.894937 \nL 947.389033 130.442195 \nL 949.515963 130.61092 \nL 951.642892 130.977816 \nL 953.769822 131.041682 \nL 955.896752 131.393584 \nL 958.023681 130.990544 \nL 960.150611 131.671539 \nL 962.277541 131.909937 \nL 968.65833 133.218427 \nL 970.785259 133.172713 \nL 972.912189 133.454783 \nL 979.292978 133.33257 \nL 981.419908 133.627624 \nL 983.546837 134.232885 \nL 985.673767 135.049013 \nL 987.800697 134.663966 \nL 992.054556 135.025534 \nL 994.181486 134.432746 \nL 996.308416 135.191643 \nL 998.435345 135.694374 \nL 1000.562275 135.947319 \nL 1004.816134 137.038148 \nL 1006.943064 137.497525 \nL 1009.069994 137.190093 \nL 1013.323853 137.44728 \nL 1015.450783 136.879758 \nL 1017.577712 137.040189 \nL 1019.704642 137.058309 \nL 1021.831572 136.781088 \nL 1023.958501 136.22135 \nL 1026.085431 135.900424 \nL 1028.212361 136.238162 \nL 1032.46622 136.484949 \nL 1036.720079 136.437991 \nL 1038.847009 136.051955 \nL 1040.973939 136.987808 \nL 1045.227798 137.654606 \nL 1049.481657 137.652246 \nL 1051.608587 137.981051 \nL 1053.735517 137.588762 \nL 1055.862446 137.629149 \nL 1057.989376 137.402874 \nL 1060.116306 138.702624 \nL 1062.243235 139.477121 \nL 1064.370165 139.552854 \nL 1068.624024 140.153937 \nL 1070.750954 140.01153 \nL 1075.004813 140.519875 \nL 1077.131743 141.007836 \nL 1079.258673 140.430679 \nL 1081.385602 140.818151 \nL 1083.512532 140.934431 \nL 1085.639462 140.805231 \nL 1087.766392 140.545587 \nL 1092.020251 141.428453 \nL 1094.147181 141.491904 \nL 1096.27411 141.179847 \nL 1100.52797 141.298392 \nL 1102.654899 141.651601 \nL 1104.781829 141.184536 \nL 1106.908759 141.252773 \nL 1109.035688 141.025477 \nL 1111.162618 141.23679 \nL 1113.289548 141.147914 \nL 1115.416477 141.184472 \nL 1115.416477 141.184472 \n\" style=\"fill:none;stroke:#ff7f0e;stroke-linecap:square;stroke-width:1.5;\"/>\n   </g>\n   <g id=\"line2d_17\"/>\n   <g id=\"line2d_18\"/>\n   <g id=\"line2d_19\"/>\n   <g id=\"patch_3\">\n    <path d=\"M 50.14375 239.758125 \nL 50.14375 22.318125 \n\" style=\"fill:none;stroke:#000000;stroke-linecap:square;stroke-linejoin:miter;stroke-width:0.8;\"/>\n   </g>\n   <g id=\"patch_4\">\n    <path d=\"M 1166.14375 239.758125 \nL 1166.14375 22.318125 \n\" style=\"fill:none;stroke:#000000;stroke-linecap:square;stroke-linejoin:miter;stroke-width:0.8;\"/>\n   </g>\n   <g id=\"patch_5\">\n    <path d=\"M 50.14375 239.758125 \nL 1166.14375 239.758125 \n\" style=\"fill:none;stroke:#000000;stroke-linecap:square;stroke-linejoin:miter;stroke-width:0.8;\"/>\n   </g>\n   <g id=\"patch_6\">\n    <path d=\"M 50.14375 22.318125 \nL 1166.14375 22.318125 \n\" style=\"fill:none;stroke:#000000;stroke-linecap:square;stroke-linejoin:miter;stroke-width:0.8;\"/>\n   </g>\n   <g id=\"text_17\">\n    <!-- Loss Plot -->\n    <g transform=\"translate(581.768125 16.318125)scale(0.12 -0.12)\">\n     <defs>\n      <path d=\"M 9.8125 72.90625 \nL 19.671875 72.90625 \nL 19.671875 8.296875 \nL 55.171875 8.296875 \nL 55.171875 0 \nL 9.8125 0 \nz\n\" id=\"DejaVuSans-76\"/>\n      <path d=\"M 44.28125 53.078125 \nL 44.28125 44.578125 \nQ 40.484375 46.53125 36.375 47.5 \nQ 32.28125 48.484375 27.875 48.484375 \nQ 21.1875 48.484375 17.84375 46.4375 \nQ 14.5 44.390625 14.5 40.28125 \nQ 14.5 37.15625 16.890625 35.375 \nQ 19.28125 33.59375 26.515625 31.984375 \nL 29.59375 31.296875 \nQ 39.15625 29.25 43.1875 25.515625 \nQ 47.21875 21.78125 47.21875 15.09375 \nQ 47.21875 7.46875 41.1875 3.015625 \nQ 35.15625 -1.421875 24.609375 -1.421875 \nQ 20.21875 -1.421875 15.453125 -0.5625 \nQ 10.6875 0.296875 5.421875 2 \nL 5.421875 11.28125 \nQ 10.40625 8.6875 15.234375 7.390625 \nQ 20.0625 6.109375 24.8125 6.109375 \nQ 31.15625 6.109375 34.5625 8.28125 \nQ 37.984375 10.453125 37.984375 14.40625 \nQ 37.984375 18.0625 35.515625 20.015625 \nQ 33.0625 21.96875 24.703125 23.78125 \nL 21.578125 24.515625 \nQ 13.234375 26.265625 9.515625 29.90625 \nQ 5.8125 33.546875 5.8125 39.890625 \nQ 5.8125 47.609375 11.28125 51.796875 \nQ 16.75 56 26.8125 56 \nQ 31.78125 56 36.171875 55.265625 \nQ 40.578125 54.546875 44.28125 53.078125 \nz\n\" id=\"DejaVuSans-115\"/>\n      <path id=\"DejaVuSans-32\"/>\n      <path d=\"M 19.671875 64.796875 \nL 19.671875 37.40625 \nL 32.078125 37.40625 \nQ 38.96875 37.40625 42.71875 40.96875 \nQ 46.484375 44.53125 46.484375 51.125 \nQ 46.484375 57.671875 42.71875 61.234375 \nQ 38.96875 64.796875 32.078125 64.796875 \nz\nM 9.8125 72.90625 \nL 32.078125 72.90625 \nQ 44.34375 72.90625 50.609375 67.359375 \nQ 56.890625 61.8125 56.890625 51.125 \nQ 56.890625 40.328125 50.609375 34.8125 \nQ 44.34375 29.296875 32.078125 29.296875 \nL 19.671875 29.296875 \nL 19.671875 0 \nL 9.8125 0 \nz\n\" id=\"DejaVuSans-80\"/>\n      <path d=\"M 18.3125 70.21875 \nL 18.3125 54.6875 \nL 36.8125 54.6875 \nL 36.8125 47.703125 \nL 18.3125 47.703125 \nL 18.3125 18.015625 \nQ 18.3125 11.328125 20.140625 9.421875 \nQ 21.96875 7.515625 27.59375 7.515625 \nL 36.8125 7.515625 \nL 36.8125 0 \nL 27.59375 0 \nQ 17.1875 0 13.234375 3.875 \nQ 9.28125 7.765625 9.28125 18.015625 \nL 9.28125 47.703125 \nL 2.6875 47.703125 \nL 2.6875 54.6875 \nL 9.28125 54.6875 \nL 9.28125 70.21875 \nz\n\" id=\"DejaVuSans-116\"/>\n     </defs>\n     <use xlink:href=\"#DejaVuSans-76\"/>\n     <use x=\"53.962891\" xlink:href=\"#DejaVuSans-111\"/>\n     <use x=\"115.144531\" xlink:href=\"#DejaVuSans-115\"/>\n     <use x=\"167.244141\" xlink:href=\"#DejaVuSans-115\"/>\n     <use x=\"219.34375\" xlink:href=\"#DejaVuSans-32\"/>\n     <use x=\"251.130859\" xlink:href=\"#DejaVuSans-80\"/>\n     <use x=\"311.433594\" xlink:href=\"#DejaVuSans-108\"/>\n     <use x=\"339.216797\" xlink:href=\"#DejaVuSans-111\"/>\n     <use x=\"400.398438\" xlink:href=\"#DejaVuSans-116\"/>\n    </g>\n   </g>\n   <g id=\"legend_1\">\n    <g id=\"patch_7\">\n     <path d=\"M 1088.003125 74.630625 \nL 1159.14375 74.630625 \nQ 1161.14375 74.630625 1161.14375 72.630625 \nL 1161.14375 29.318125 \nQ 1161.14375 27.318125 1159.14375 27.318125 \nL 1088.003125 27.318125 \nQ 1086.003125 27.318125 1086.003125 29.318125 \nL 1086.003125 72.630625 \nQ 1086.003125 74.630625 1088.003125 74.630625 \nz\n\" style=\"fill:#ffffff;opacity:0.8;stroke:#cccccc;stroke-linejoin:miter;\"/>\n    </g>\n    <g id=\"line2d_20\">\n     <path d=\"M 1090.003125 35.416562 \nL 1110.003125 35.416562 \n\" style=\"fill:none;\"/>\n    </g>\n    <g id=\"line2d_21\"/>\n    <g id=\"text_18\">\n     <!-- metric -->\n     <g transform=\"translate(1118.003125 38.916562)scale(0.1 -0.1)\">\n      <defs>\n       <path d=\"M 52 44.1875 \nQ 55.375 50.25 60.0625 53.125 \nQ 64.75 56 71.09375 56 \nQ 79.640625 56 84.28125 50.015625 \nQ 88.921875 44.046875 88.921875 33.015625 \nL 88.921875 0 \nL 79.890625 0 \nL 79.890625 32.71875 \nQ 79.890625 40.578125 77.09375 44.375 \nQ 74.3125 48.1875 68.609375 48.1875 \nQ 61.625 48.1875 57.5625 43.546875 \nQ 53.515625 38.921875 53.515625 30.90625 \nL 53.515625 0 \nL 44.484375 0 \nL 44.484375 32.71875 \nQ 44.484375 40.625 41.703125 44.40625 \nQ 38.921875 48.1875 33.109375 48.1875 \nQ 26.21875 48.1875 22.15625 43.53125 \nQ 18.109375 38.875 18.109375 30.90625 \nL 18.109375 0 \nL 9.078125 0 \nL 9.078125 54.6875 \nL 18.109375 54.6875 \nL 18.109375 46.1875 \nQ 21.1875 51.21875 25.484375 53.609375 \nQ 29.78125 56 35.6875 56 \nQ 41.65625 56 45.828125 52.96875 \nQ 50 49.953125 52 44.1875 \nz\n\" id=\"DejaVuSans-109\"/>\n       <path d=\"M 41.109375 46.296875 \nQ 39.59375 47.171875 37.8125 47.578125 \nQ 36.03125 48 33.890625 48 \nQ 26.265625 48 22.1875 43.046875 \nQ 18.109375 38.09375 18.109375 28.8125 \nL 18.109375 0 \nL 9.078125 0 \nL 9.078125 54.6875 \nL 18.109375 54.6875 \nL 18.109375 46.1875 \nQ 20.953125 51.171875 25.484375 53.578125 \nQ 30.03125 56 36.53125 56 \nQ 37.453125 56 38.578125 55.875 \nQ 39.703125 55.765625 41.0625 55.515625 \nz\n\" id=\"DejaVuSans-114\"/>\n       <path d=\"M 9.421875 54.6875 \nL 18.40625 54.6875 \nL 18.40625 0 \nL 9.421875 0 \nz\nM 9.421875 75.984375 \nL 18.40625 75.984375 \nL 18.40625 64.59375 \nL 9.421875 64.59375 \nz\n\" id=\"DejaVuSans-105\"/>\n      </defs>\n      <use xlink:href=\"#DejaVuSans-109\"/>\n      <use x=\"97.412109\" xlink:href=\"#DejaVuSans-101\"/>\n      <use x=\"158.935547\" xlink:href=\"#DejaVuSans-116\"/>\n      <use x=\"198.144531\" xlink:href=\"#DejaVuSans-114\"/>\n      <use x=\"239.257812\" xlink:href=\"#DejaVuSans-105\"/>\n      <use x=\"267.041016\" xlink:href=\"#DejaVuSans-99\"/>\n     </g>\n    </g>\n    <g id=\"line2d_22\">\n     <path d=\"M 1090.003125 50.094687 \nL 1110.003125 50.094687 \n\" style=\"fill:none;stroke:#1f77b4;stroke-linecap:square;stroke-width:1.5;\"/>\n    </g>\n    <g id=\"line2d_23\"/>\n    <g id=\"text_19\">\n     <!-- loss -->\n     <g transform=\"translate(1118.003125 53.594687)scale(0.1 -0.1)\">\n      <use xlink:href=\"#DejaVuSans-108\"/>\n      <use x=\"27.783203\" xlink:href=\"#DejaVuSans-111\"/>\n      <use x=\"88.964844\" xlink:href=\"#DejaVuSans-115\"/>\n      <use x=\"141.064453\" xlink:href=\"#DejaVuSans-115\"/>\n     </g>\n    </g>\n    <g id=\"line2d_24\">\n     <path d=\"M 1090.003125 64.772812 \nL 1110.003125 64.772812 \n\" style=\"fill:none;stroke:#ff7f0e;stroke-linecap:square;stroke-width:1.5;\"/>\n    </g>\n    <g id=\"line2d_25\"/>\n    <g id=\"text_20\">\n     <!-- val_loss -->\n     <g transform=\"translate(1118.003125 68.272812)scale(0.1 -0.1)\">\n      <defs>\n       <path d=\"M 50.984375 -16.609375 \nL 50.984375 -23.578125 \nL -0.984375 -23.578125 \nL -0.984375 -16.609375 \nz\n\" id=\"DejaVuSans-95\"/>\n      </defs>\n      <use xlink:href=\"#DejaVuSans-118\"/>\n      <use x=\"59.179688\" xlink:href=\"#DejaVuSans-97\"/>\n      <use x=\"120.458984\" xlink:href=\"#DejaVuSans-108\"/>\n      <use x=\"148.242188\" xlink:href=\"#DejaVuSans-95\"/>\n      <use x=\"198.242188\" xlink:href=\"#DejaVuSans-108\"/>\n      <use x=\"226.025391\" xlink:href=\"#DejaVuSans-111\"/>\n      <use x=\"287.207031\" xlink:href=\"#DejaVuSans-115\"/>\n      <use x=\"339.306641\" xlink:href=\"#DejaVuSans-115\"/>\n     </g>\n    </g>\n   </g>\n  </g>\n </g>\n <defs>\n  <clipPath id=\"p097551f167\">\n   <rect height=\"217.44\" width=\"1116\" x=\"50.14375\" y=\"22.318125\"/>\n  </clipPath>\n </defs>\n</svg>\n",
      "text/plain": [
       "<Figure size 1440x288 with 1 Axes>"
      ]
     },
     "metadata": {
      "needs_background": "light"
     },
     "output_type": "display_data"
    }
   ],
   "source": [
    "# Loss Plot\n",
    "loss_df = history[history['metric'].isin(['val_loss','loss'])]\n",
    "sns.lineplot(x='epoch', y='value', hue='metric', data=loss_df)\n",
    "plt.title(\"Loss Plot\")"
   ]
  },
  {
   "cell_type": "markdown",
   "metadata": {},
   "source": [
    "-The value of val_loss and loss is increasing while it must decrease that why I said it is not learning. The same happens with accuracy and auc, they remain flat"
   ]
  },
  {
   "cell_type": "markdown",
   "metadata": {},
   "source": [
    "## XGBoost"
   ]
  },
  {
   "cell_type": "code",
   "execution_count": 27,
   "metadata": {},
   "outputs": [],
   "source": [
    "import xgboost as xgb\n",
    "from hyperopt import hp\n",
    "from sklearn.preprocessing import LabelEncoder"
   ]
  },
  {
   "cell_type": "code",
   "execution_count": 28,
   "metadata": {},
   "outputs": [
    {
     "name": "stdout",
     "output_type": "stream",
     "text": [
      "STANDARD\n",
      "Fitting 10 folds for each of 300 candidates, totalling 3000 fits\n",
      "F1-weighted for: STANDARD\n",
      "Training: 0.9978008807263491\n",
      "Validation: 0.9757626665333342\n",
      "SMOTE\n",
      "Fitting 10 folds for each of 300 candidates, totalling 3000 fits\n",
      "F1-weighted for: SMOTE\n",
      "Training: 1.0\n",
      "Validation: 0.9806811799229284\n",
      "ADASYN\n",
      "Fitting 10 folds for each of 300 candidates, totalling 3000 fits\n",
      "F1-weighted for: ADASYN\n",
      "Training: 1.0\n",
      "Validation: 0.9803507019296493\n",
      "BORDERLINE\n",
      "Fitting 10 folds for each of 300 candidates, totalling 3000 fits\n",
      "F1-weighted for: BORDERLINE\n",
      "Training: 1.0\n",
      "Validation: 0.98595409140976\n",
      "SVM\n",
      "Fitting 10 folds for each of 300 candidates, totalling 3000 fits\n",
      "F1-weighted for: SVM\n",
      "Training: 1.0\n",
      "Validation: 0.980685517074876\n",
      "RANDOM\n",
      "Fitting 10 folds for each of 300 candidates, totalling 3000 fits\n",
      "F1-weighted for: RANDOM\n",
      "Training: 1.0\n",
      "Validation: 0.9824474800537839\n",
      "UNDER\n",
      "Fitting 10 folds for each of 300 candidates, totalling 3000 fits\n",
      "F1-weighted for: UNDER\n",
      "Training: 1.0\n",
      "Validation: 0.9824474800537839\n"
     ]
    }
   ],
   "source": [
    "# Initiate Label Encoder\n",
    "le = LabelEncoder()\n",
    "\n",
    "# Model\n",
    "model = xgb.XGBClassifier()\n",
    "\n",
    "# Ggrid\n",
    "grid=params = {\n",
    "    \"learning_rate\" : [0.05,0.10,0.15,0.20,0.25,0.30],\n",
    "    \"max_depth\" : [ 3, 4, 5, 6, 8, 10, 12, 15],\n",
    "    \"min_child_weight\" : [ 1, 3, 5, 7 ],\n",
    "    \"gamma\": [ 0.0, 0.1, 0.2 , 0.3, 0.4 ],\n",
    "    \"colsample_bytree\" : [ 0.3, 0.4, 0.5 , 0.7 ]\n",
    "}\n",
    "\n",
    "\n",
    "# Train\n",
    "for i in data_to_train:\n",
    "    X_loop = i[0]\n",
    "    y_loop = i[1]\n",
    "    name = i[2]\n",
    "    print(name)\n",
    "    path = \"../../results/breast_cancer/Training/xgboost_\" + name + \".csv\"\n",
    "\n",
    "    # Converting y_loop so it can be fit by XGB\n",
    "    y_loop = le.fit_transform(y_loop)\n",
    "\n",
    "    random_search = RandomizedSearchCV(estimator= model,n_iter=300, param_distributions = grid, cv=10, scoring=\"f1_weighted\", verbose=1, n_jobs= -1, return_train_score=1, random_state=1)\n",
    "\n",
    "    random_search.fit(X_loop, y_loop)\n",
    "\n",
    "    # Save Results \n",
    "    df = pd.DataFrame(random_search.cv_results_)\n",
    "    df.to_csv(path)\n",
    "\n",
    "    # Save Model\n",
    "    rs_best = random_search.best_estimator_ # Best Model\n",
    "\n",
    "    path = \"../../models/breast_cancer/xgboost_\" + name + \".pkl\"\n",
    "    with open(path,'wb') as f:\n",
    "        pkl.dump(rs_best,f)\n",
    "\n",
    "    # Log\n",
    "    try:\n",
    "        y_pred = rs_best.predict(X_loop)\n",
    "        train_error = f1_score(y_loop, y_pred, average=\"weighted\")\n",
    "        print(\"F1-weighted for: \" + name)\n",
    "        print(\"Training: \" + str(train_error))\n",
    "        print(\"Validation: \" + str(random_search.best_score_))\n",
    "    except:\n",
    "        print(name + \" process\")"
   ]
  }
 ],
 "metadata": {
  "kernelspec": {
   "display_name": "Python 3.10.5 64-bit",
   "language": "python",
   "name": "python3"
  },
  "language_info": {
   "codemirror_mode": {
    "name": "ipython",
    "version": 3
   },
   "file_extension": ".py",
   "mimetype": "text/x-python",
   "name": "python",
   "nbconvert_exporter": "python",
   "pygments_lexer": "ipython3",
   "version": "3.10.5"
  },
  "orig_nbformat": 2,
  "vscode": {
   "interpreter": {
    "hash": "a38602ff0d5353171775ec806484136597e062054e3d5878e2b90183c0cda2e8"
   }
  }
 },
 "nbformat": 4,
 "nbformat_minor": 2
}
