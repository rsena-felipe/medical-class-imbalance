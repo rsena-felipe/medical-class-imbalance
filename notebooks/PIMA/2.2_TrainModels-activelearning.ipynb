{
 "cells": [
  {
   "cell_type": "code",
   "execution_count": 1,
   "metadata": {},
   "outputs": [],
   "source": [
    "# Library of my own functions\n",
    "import sys\n",
    "sys.path.append(\"../../src/\")\n",
    "import my_functions\n",
    "\n",
    "# Libraries to deal with dataframes, vectors and formats\n",
    "import pandas as pd\n",
    "import numpy as np\n",
    "import pickle as pkl\n",
    "\n",
    "# sklearn to do Grid Search & ML models\n",
    "from sklearn.linear_model import LogisticRegression\n",
    "from sklearn.ensemble import RandomForestClassifier, GradientBoostingClassifier, AdaBoostClassifier\n",
    "from sklearn.tree import DecisionTreeClassifier\n",
    "from sklearn.svm import SVC\n",
    "from sklearn.model_selection import train_test_split, RandomizedSearchCV\n",
    "from sklearn.feature_selection import RFECV\n",
    "from sklearn.metrics import f1_score, confusion_matrix \n",
    "\n",
    "# Imbalanced Learn\n",
    "from imblearn.over_sampling import SMOTE, ADASYN, BorderlineSMOTE, KMeansSMOTE, SVMSMOTE, RandomOverSampler\n",
    "from imblearn.under_sampling import RandomUnderSampler\n",
    "\n",
    "# Plotting libraries to understand the models\n",
    "import matplotlib.pyplot as plt\n",
    "import seaborn as sns\n",
    "import logging\n",
    "logging.getLogger().setLevel(logging.CRITICAL) # Avoids no critical warnings\n",
    "plt.rcParams['figure.figsize'] = [20, 4] # Change figure size of the cell of the notebook"
   ]
  },
  {
   "cell_type": "markdown",
   "metadata": {},
   "source": [
    "# 1. Train Model"
   ]
  },
  {
   "cell_type": "markdown",
   "metadata": {},
   "source": [
    "##  1.1 Create Features and Target"
   ]
  },
  {
   "cell_type": "code",
   "execution_count": 30,
   "metadata": {},
   "outputs": [],
   "source": [
    "X_train = pd.read_csv(\"../../data/pima/preprocess/pima_stratified_standard_scaler.csv\", index_col=\"index\")\n",
    "\n",
    "# Split the data into train and validation sets\n",
    "df_training, df_validation = X_train[X_train[\"split\"] ==\"train\"], X_train[X_train[\"split\"] ==\"test\"]\n",
    "X_train, X_test = df_training.iloc[:, 0:8], df_validation.iloc[:, 0:8]\n",
    "y_train, y_test = df_training[\"Outcome\"], df_validation[\"Outcome\"]"
   ]
  },
  {
   "cell_type": "markdown",
   "metadata": {},
   "source": [
    "## 1.2 Active Sampling"
   ]
  },
  {
   "cell_type": "code",
   "execution_count": 3,
   "metadata": {},
   "outputs": [],
   "source": [
    "filename = \"../../models/pima/\"\n",
    "model_type = \"_STANDARD.pkl\"\n",
    "\n",
    "log_reg = pkl.load(open(filename + \"logistic_regression\" + model_type , 'rb'))\n",
    "svc = pkl.load(open(filename + \"svc\" + model_type, 'rb'))\n",
    "ada_boost = pkl.load(open(filename + \"ada_boost\" + model_type, 'rb'))\n",
    "gradient_boosting = pkl.load(open(filename + \"gradient_boosting\" + model_type, 'rb'))\n",
    "random_forest = pkl.load(open(filename + \"random_forest\" + model_type, 'rb'))\n",
    "xg_boost = pkl.load(open(filename + \"xgboost\" + model_type, 'rb'))"
   ]
  },
  {
   "cell_type": "code",
   "execution_count": 5,
   "metadata": {},
   "outputs": [],
   "source": [
    "# Filtrate only examples of the minority class\n",
    "indexes_minority_class = y_train[y_train == \"diabetes\"].index\n",
    "X_minority_class = X_train[X_train.index.isin(indexes_minority_class)]"
   ]
  },
  {
   "cell_type": "code",
   "execution_count": 6,
   "metadata": {},
   "outputs": [],
   "source": [
    "def get_least_confidence_samples(model, X_train, perc_uncertain=0.5):\n",
    "    \"\"\" \n",
    "    Return pandas dataframe of training data where the model is most uncertain.\n",
    "    The uncertainty is calculated with the normalized uncertainty score of a training set using\n",
    "    least confidence sampling in a 0-1 range where 1 is most uncertain (indexes of X_train are kept)\n",
    "\n",
    "    Keyword arguments:\n",
    "      model -- sklearn model previously train with the distribution of X_train data.\n",
    "      X_train -– train data where the confidence of the model is going to be calculated.\n",
    "      perc_uncertain -- % of most unconfident samples that is going to be retained.  \n",
    "    \"\"\"\n",
    "\n",
    "    prob_dist = model.predict_proba(X_train) \n",
    "    prob_dist_minority_class = prob_dist[:, 0] # Obtaining probability of belonging to minority class (0 index may change in other datasets)\n",
    "\n",
    "    # Calculating the normalized uncertainty score\n",
    "    num_labels = prob_dist.shape[1]\n",
    "    simple_least_conf = 1 - prob_dist_minority_class\n",
    "    normalized_least_conf = simple_least_conf * (num_labels / (num_labels - 1))\n",
    "\n",
    "    # Concatenating with indexes \n",
    "    df_confidence = pd.concat([pd.DataFrame(X_train.index), pd.DataFrame(normalized_least_conf, columns=[\"normalized_least_confidence\"])], axis=1)\n",
    "    df_confidence.set_index('index', inplace=True)\n",
    "\n",
    "    # Sorting and keeping the most unconfident samples\n",
    "    df_least_confidence = df_confidence.sort_values(\"normalized_least_confidence\", ascending=False)\n",
    "    number_rows = int(len(df_least_confidence)*perc_uncertain) # Obtain the first n rows based on perc_uncertain\n",
    "    df_least_confidence = df_least_confidence.head(number_rows)\n",
    "\n",
    "    # Obtaining training data where the model is most uncertain\n",
    "    X_least_confidence = X_train[X_train.index.isin(df_least_confidence.index)] \n",
    "\n",
    "    return X_least_confidence"
   ]
  },
  {
   "cell_type": "code",
   "execution_count": 7,
   "metadata": {},
   "outputs": [],
   "source": [
    "X_least_confidence = get_least_confidence_samples(log_reg, X_minority_class)"
   ]
  },
  {
   "cell_type": "code",
   "execution_count": 8,
   "metadata": {},
   "outputs": [],
   "source": [
    "from sklearn.cluster import KMeans\n",
    "def get_kmeans_samples(X_least_confidence):\n",
    "    kmeans = KMeans(n_clusters=5, random_state=1).fit(X_least_confidence)\n",
    "\n",
    "    # Keep Indexes in Kmeans\n",
    "    df_kmeans = pd.concat([pd.DataFrame(X_least_confidence.index), pd.DataFrame(kmeans.labels_, columns=[\"kmeans_cluster\"])], axis=1)\n",
    "    df_kmeans.set_index('index', inplace=True)\n",
    "\n",
    "    perc_sample = 0.4\n",
    "    number_samples_by_cluster = round(int(len(df_kmeans)*perc_sample)/5)\n",
    "\n",
    "    try:\n",
    "        kmeans_samples = df_kmeans.groupby('kmeans_cluster', group_keys=False).apply(lambda x: x.sample(number_samples_by_cluster, random_state=1))\n",
    "    except ValueError:\n",
    "        min_samples_cluster = df_kmeans.value_counts().min()\n",
    "        num_clusters = df_kmeans.value_counts().shape[0]\n",
    "        perc_to_sample = round((num_clusters*min_samples_cluster) / df_kmeans.shape[0] *100, 2)\n",
    "        print(\"There is a cluster with only \" + str(min_samples_cluster) + \" samples, to have a significant representation of every cluster we can only sample maximum \" + str(perc_to_sample)+ \"% of the data.\")\n",
    "        print(\"Setting the number of samples per cluster to be: \" + str(min_samples_cluster))\n",
    "\n",
    "        kmeans_samples = df_kmeans.groupby('kmeans_cluster', group_keys=False).apply(lambda x: x.sample(min_samples_cluster, random_state=1))\n",
    "        \n",
    "    return kmeans_samples"
   ]
  },
  {
   "cell_type": "code",
   "execution_count": 9,
   "metadata": {},
   "outputs": [
    {
     "name": "stdout",
     "output_type": "stream",
     "text": [
      "There is a cluster with only 5 samples, to have a significant representation of every cluster we can only sample maximum 23.36% of the data.\n",
      "Setting the number of samples per cluster to be: 5\n"
     ]
    }
   ],
   "source": [
    "kmeans_samples = get_kmeans_samples(X_least_confidence)"
   ]
  },
  {
   "cell_type": "code",
   "execution_count": 10,
   "metadata": {},
   "outputs": [],
   "source": [
    "indexes_kmeans = kmeans_samples.index\n",
    "indexes_majority_class = y_train[y_train == \"healthy\"].index\n",
    "indexes_to_filter = indexes_kmeans.append(indexes_majority_class)\n",
    "\n",
    "X_least_kmeans = X_train[X_train.index.isin(indexes_to_filter)]\n",
    "y_least_kmeans = y_train[y_train.index.isin(indexes_to_filter)]    "
   ]
  },
  {
   "cell_type": "code",
   "execution_count": null,
   "metadata": {},
   "outputs": [],
   "source": [
    "from sklearn.neighbors import NearestNeighbors\n",
    "def nearest_neighbour(X):\n",
    "  nbs = NearestNeighbors(n_neighbors=5, metric='euclidean', algorithm='kd_tree').fit(X)\n",
    "  euclidean, indices = nbs.kneighbors(X)\n",
    "  return indices"
   ]
  },
  {
   "cell_type": "markdown",
   "metadata": {},
   "source": [
    "### Developing"
   ]
  },
  {
   "cell_type": "code",
   "execution_count": 3,
   "metadata": {},
   "outputs": [],
   "source": [
    "import numpy as np\n",
    "from sklearn.neighbors import NearestNeighbors"
   ]
  },
  {
   "cell_type": "code",
   "execution_count": 6,
   "metadata": {},
   "outputs": [
    {
     "data": {
      "text/html": [
       "<style>#sk-container-id-2 {color: black;background-color: white;}#sk-container-id-2 pre{padding: 0;}#sk-container-id-2 div.sk-toggleable {background-color: white;}#sk-container-id-2 label.sk-toggleable__label {cursor: pointer;display: block;width: 100%;margin-bottom: 0;padding: 0.3em;box-sizing: border-box;text-align: center;}#sk-container-id-2 label.sk-toggleable__label-arrow:before {content: \"▸\";float: left;margin-right: 0.25em;color: #696969;}#sk-container-id-2 label.sk-toggleable__label-arrow:hover:before {color: black;}#sk-container-id-2 div.sk-estimator:hover label.sk-toggleable__label-arrow:before {color: black;}#sk-container-id-2 div.sk-toggleable__content {max-height: 0;max-width: 0;overflow: hidden;text-align: left;background-color: #f0f8ff;}#sk-container-id-2 div.sk-toggleable__content pre {margin: 0.2em;color: black;border-radius: 0.25em;background-color: #f0f8ff;}#sk-container-id-2 input.sk-toggleable__control:checked~div.sk-toggleable__content {max-height: 200px;max-width: 100%;overflow: auto;}#sk-container-id-2 input.sk-toggleable__control:checked~label.sk-toggleable__label-arrow:before {content: \"▾\";}#sk-container-id-2 div.sk-estimator input.sk-toggleable__control:checked~label.sk-toggleable__label {background-color: #d4ebff;}#sk-container-id-2 div.sk-label input.sk-toggleable__control:checked~label.sk-toggleable__label {background-color: #d4ebff;}#sk-container-id-2 input.sk-hidden--visually {border: 0;clip: rect(1px 1px 1px 1px);clip: rect(1px, 1px, 1px, 1px);height: 1px;margin: -1px;overflow: hidden;padding: 0;position: absolute;width: 1px;}#sk-container-id-2 div.sk-estimator {font-family: monospace;background-color: #f0f8ff;border: 1px dotted black;border-radius: 0.25em;box-sizing: border-box;margin-bottom: 0.5em;}#sk-container-id-2 div.sk-estimator:hover {background-color: #d4ebff;}#sk-container-id-2 div.sk-parallel-item::after {content: \"\";width: 100%;border-bottom: 1px solid gray;flex-grow: 1;}#sk-container-id-2 div.sk-label:hover label.sk-toggleable__label {background-color: #d4ebff;}#sk-container-id-2 div.sk-serial::before {content: \"\";position: absolute;border-left: 1px solid gray;box-sizing: border-box;top: 0;bottom: 0;left: 50%;z-index: 0;}#sk-container-id-2 div.sk-serial {display: flex;flex-direction: column;align-items: center;background-color: white;padding-right: 0.2em;padding-left: 0.2em;position: relative;}#sk-container-id-2 div.sk-item {position: relative;z-index: 1;}#sk-container-id-2 div.sk-parallel {display: flex;align-items: stretch;justify-content: center;background-color: white;position: relative;}#sk-container-id-2 div.sk-item::before, #sk-container-id-2 div.sk-parallel-item::before {content: \"\";position: absolute;border-left: 1px solid gray;box-sizing: border-box;top: 0;bottom: 0;left: 50%;z-index: -1;}#sk-container-id-2 div.sk-parallel-item {display: flex;flex-direction: column;z-index: 1;position: relative;background-color: white;}#sk-container-id-2 div.sk-parallel-item:first-child::after {align-self: flex-end;width: 50%;}#sk-container-id-2 div.sk-parallel-item:last-child::after {align-self: flex-start;width: 50%;}#sk-container-id-2 div.sk-parallel-item:only-child::after {width: 0;}#sk-container-id-2 div.sk-dashed-wrapped {border: 1px dashed gray;margin: 0 0.4em 0.5em 0.4em;box-sizing: border-box;padding-bottom: 0.4em;background-color: white;}#sk-container-id-2 div.sk-label label {font-family: monospace;font-weight: bold;display: inline-block;line-height: 1.2em;}#sk-container-id-2 div.sk-label-container {text-align: center;}#sk-container-id-2 div.sk-container {/* jupyter's `normalize.less` sets `[hidden] { display: none; }` but bootstrap.min.css set `[hidden] { display: none !important; }` so we also need the `!important` here to be able to override the default hidden behavior on the sphinx rendered scikit-learn.org. See: https://github.com/scikit-learn/scikit-learn/issues/21755 */display: inline-block !important;position: relative;}#sk-container-id-2 div.sk-text-repr-fallback {display: none;}</style><div id=\"sk-container-id-2\" class=\"sk-top-container\"><div class=\"sk-text-repr-fallback\"><pre>NearestNeighbors(n_neighbors=3)</pre><b>In a Jupyter environment, please rerun this cell to show the HTML representation or trust the notebook. <br />On GitHub, the HTML representation is unable to render, please try loading this page with nbviewer.org.</b></div><div class=\"sk-container\" hidden><div class=\"sk-item\"><div class=\"sk-estimator sk-toggleable\"><input class=\"sk-toggleable__control sk-hidden--visually\" id=\"sk-estimator-id-2\" type=\"checkbox\" checked><label for=\"sk-estimator-id-2\" class=\"sk-toggleable__label sk-toggleable__label-arrow\">NearestNeighbors</label><div class=\"sk-toggleable__content\"><pre>NearestNeighbors(n_neighbors=3)</pre></div></div></div></div></div>"
      ],
      "text/plain": [
       "NearestNeighbors(n_neighbors=3)"
      ]
     },
     "execution_count": 6,
     "metadata": {},
     "output_type": "execute_result"
    }
   ],
   "source": [
    "nbrs = NearestNeighbors(n_neighbors=3)\n",
    "nbrs.fit(X_train)\n",
    "knn = nbrs.kneighbors()[1]"
   ]
  },
  {
   "cell_type": "code",
   "execution_count": 7,
   "metadata": {},
   "outputs": [],
   "source": [
    "\"\"\"Python implementation of SMOTE.\n",
    "This implementation is based on the original variant of SMOTE.\n",
    "Original paper: https://www.jair.org/media/953/live-953-2037-jair.pdf\n",
    "\"\"\"\n",
    "\n",
    "import numpy as np\n",
    "from sklearn.neighbors import NearestNeighbors\n",
    "\n",
    "\n",
    "class SMOTE:\n",
    "    \"\"\"Python implementation of SMOTE.\n",
    "        This implementation is based on the original variant of SMOTE.\n",
    "        Parameters\n",
    "        ----------\n",
    "        ratio : int, optional (default=100)\n",
    "            The ratio percentage of generated samples to original samples.\n",
    "            - If ratio < 100, then randomly choose ratio% of samples to SMOTE.\n",
    "            - If ratio >= 100, it must be a interger multiple of 100.\n",
    "        k_neighbors : int, optional (defalut=6)\n",
    "            Number of nearest neighbors to used to SMOTE.\n",
    "        random_state : int, optional (default=None)\n",
    "            The random seed of the random number generator.\n",
    "    \"\"\"\n",
    "    def __init__(self,\n",
    "                 ratio=100,\n",
    "                 k_neighbors=6,\n",
    "                 random_state=None):\n",
    "        # check input arguments\n",
    "        if ratio > 0 and ratio < 100:\n",
    "            self.ratio = ratio\n",
    "        elif ratio >= 100:\n",
    "            if ratio % 100 == 0:\n",
    "                self.ratio = ratio\n",
    "            else:\n",
    "                raise ValueError(\n",
    "                    'ratio over 100 should be multiples of 100')\n",
    "        else:\n",
    "            raise ValueError(\n",
    "                'ratio should be greater than 0')\n",
    "\n",
    "        if type(k_neighbors) == int:\n",
    "            if k_neighbors > 0:\n",
    "                self.k_neighbors = k_neighbors\n",
    "            else:\n",
    "                raise ValueError(\n",
    "                    'k_neighbors should be integer greater than 0')\n",
    "        else:\n",
    "            raise TypeError(\n",
    "                'Expect integer for k_neighbors')\n",
    "\n",
    "        if type(random_state) == int:\n",
    "            np.random.seed(random_state)\n",
    "\n",
    "    def _randomize(self, samples, ratio):\n",
    "        length = samples.shape[0]\n",
    "        target_size = length * ratio\n",
    "        idx = np.random.randint(length, size=target_size)\n",
    "\n",
    "        return samples[idx, :]\n",
    "\n",
    "    def _populate(self, idx, nnarray):\n",
    "        for i in range(self.N):\n",
    "            nn = np.random.randint(low=0, high=self.k_neighbors) # Obtain a random K-Neighbor\n",
    "            for attr in range(self.numattrs):\n",
    "                dif = (self.samples[nnarray[nn]][attr]\n",
    "                       - self.samples[idx][attr])\n",
    "                gap = np.random.uniform()\n",
    "                self.synthetic[self.newidx][attr] = (self.samples[idx][attr]\n",
    "                                                     + gap * dif)\n",
    "            self.newidx += 1\n",
    "\n",
    "    def oversample(self, samples, merge=False):\n",
    "        \"\"\"Perform oversampling using SMOTE\n",
    "        Parameters\n",
    "        ----------\n",
    "        samples : list or ndarray, shape (n_samples, n_features)\n",
    "            The samples to apply SMOTE to.\n",
    "        merge : bool, optional (default=False)\n",
    "            If set to true, merge the synthetic samples to original samples.\n",
    "        Returns\n",
    "        -------\n",
    "        output : ndarray\n",
    "            The output synthetic samples.\n",
    "        \"\"\"\n",
    "        if type(samples) == list:\n",
    "            self.samples = np.array(samples)\n",
    "        elif type(samples) == np.ndarray:\n",
    "            self.samples = samples\n",
    "        else:\n",
    "            raise TypeError(\n",
    "                'Expect a built-in list or an ndarray for samples')\n",
    "\n",
    "        self.numattrs = self.samples.shape[1]\n",
    "\n",
    "        if self.ratio < 100:\n",
    "            ratio = ratio / 100.0\n",
    "            self.samples = self._randomize(self.samples, ratio) \n",
    "            self.ratio = 100\n",
    "\n",
    "        self.N = int(self.ratio / 100)\n",
    "        new_shape = (self.samples.shape[0] * self.N, self.samples.shape[1])\n",
    "        self.synthetic = np.empty(shape=new_shape)\n",
    "        self.newidx = 0\n",
    "\n",
    "        self.nbrs = NearestNeighbors(n_neighbors=self.k_neighbors)\n",
    "        self.nbrs.fit(samples)\n",
    "        self.knn = self.nbrs.kneighbors()[1]\n",
    "\n",
    "        for idx in range(self.samples.shape[0]):\n",
    "            nnarray = self.knn[idx]\n",
    "            self._populate(idx, nnarray)\n",
    "\n",
    "        if merge:\n",
    "            return np.concatenate((self.samples, self.synthetic))\n",
    "        else:\n",
    "            return self.synthetic    "
   ]
  },
  {
   "cell_type": "code",
   "execution_count": 26,
   "metadata": {},
   "outputs": [],
   "source": [
    "smote = SMOTE(ratio = 200)"
   ]
  },
  {
   "cell_type": "code",
   "execution_count": 10,
   "metadata": {},
   "outputs": [],
   "source": [
    "X_train = X_train.to_numpy()"
   ]
  },
  {
   "cell_type": "code",
   "execution_count": 27,
   "metadata": {},
   "outputs": [],
   "source": [
    "syntethic = smote.oversample(X_train)"
   ]
  },
  {
   "cell_type": "code",
   "execution_count": null,
   "metadata": {},
   "outputs": [],
   "source": [
    "hika\n",
    "hika"
   ]
  }
 ],
 "metadata": {
  "kernelspec": {
   "display_name": "Python 3.10.5 64-bit",
   "language": "python",
   "name": "python3"
  },
  "language_info": {
   "codemirror_mode": {
    "name": "ipython",
    "version": 3
   },
   "file_extension": ".py",
   "mimetype": "text/x-python",
   "name": "python",
   "nbconvert_exporter": "python",
   "pygments_lexer": "ipython3",
   "version": "3.10.5"
  },
  "orig_nbformat": 2,
  "vscode": {
   "interpreter": {
    "hash": "a38602ff0d5353171775ec806484136597e062054e3d5878e2b90183c0cda2e8"
   }
  }
 },
 "nbformat": 4,
 "nbformat_minor": 2
}
